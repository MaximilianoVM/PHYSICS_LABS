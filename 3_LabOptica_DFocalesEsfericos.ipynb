{
  "nbformat": 4,
  "nbformat_minor": 0,
  "metadata": {
    "colab": {
      "provenance": [],
      "authorship_tag": "ABX9TyPXSURSol2aUnUk/aF6ftE4",
      "include_colab_link": true
    },
    "kernelspec": {
      "name": "python3",
      "display_name": "Python 3"
    },
    "language_info": {
      "name": "python"
    }
  },
  "cells": [
    {
      "cell_type": "markdown",
      "metadata": {
        "id": "view-in-github",
        "colab_type": "text"
      },
      "source": [
        "<a href=\"https://colab.research.google.com/github/MaximilianoVM/OPTICS-LAB-2023-1/blob/main/3_LabOptica_DFocalesEsfericos.ipynb\" target=\"_parent\"><img src=\"https://colab.research.google.com/assets/colab-badge.svg\" alt=\"Open In Colab\"/></a>"
      ]
    },
    {
      "cell_type": "code",
      "execution_count": 2,
      "metadata": {
        "id": "hE5pRx86O11h"
      },
      "outputs": [],
      "source": [
        "import pandas as pd\n",
        "import numpy as np\n",
        "import matplotlib.pyplot as plt\n",
        "from scipy.stats import linregress\n",
        "import math \n",
        "from sklearn.metrics import mean_squared_error, mean_absolute_error, r2_score"
      ]
    },
    {
      "cell_type": "markdown",
      "source": [
        "#Si y So "
      ],
      "metadata": {
        "id": "OknZVEAzURN7"
      }
    },
    {
      "cell_type": "code",
      "source": [
        "   #So:Si\n",
        "\n",
        "s = {115: (10.1, 10.6), \n",
        "     110: (10.2, 11.1), \n",
        "     105: (10.4, 10.9), \n",
        "     100: (10.3, 11.1), \n",
        "     95 : (10.2, 11.2), \n",
        "     90 : (10.6, 11.5),\n",
        "     85 : (10.7, 11.5),\n",
        "     80 : (10.8, 11.5),\n",
        "     75 : (11  , 11.6),\n",
        "     70 : (10.9, 11.8),\n",
        "     65 : (11.2, 11.8),\n",
        "     60 : (11.3, 12  ),\n",
        "     55 : (11.3, 12.4),\n",
        "     50 : (11.5, 12.6), #es claro durante un intervalo mas grande\n",
        "     45 : (11.7, 12.9),\n",
        "     40 : (12.2, 13.5),\n",
        "     35 : (12.5, 14.5),\n",
        "     30 : (13.4, 15.2),\n",
        "     25 : (15  , 16.5)\n",
        "\n",
        "     \n",
        "     }\n",
        "\n",
        "\n",
        "\n",
        "so = np.array( list(s.keys()) )\n",
        "\n",
        "si_vect = np.array( list(s.values()) )\n",
        "\n",
        "si_means = np.array([np.mean(v) for v in si_vect])\n",
        "\n",
        "print(si_means)\n"
      ],
      "metadata": {
        "id": "YZ3zrqdtSgW3",
        "colab": {
          "base_uri": "https://localhost:8080/"
        },
        "outputId": "8e6c669f-5e25-4b35-fa48-4816823a83c4"
      },
      "execution_count": 22,
      "outputs": [
        {
          "output_type": "stream",
          "name": "stdout",
          "text": [
            "[10.35 10.65 10.65 10.7  10.7  11.05 11.1  11.15 11.3  11.35 11.5  11.65\n",
            " 11.85 12.05 12.3  12.85 13.5  14.3  15.75]\n"
          ]
        }
      ]
    },
    {
      "cell_type": "code",
      "source": [
        "si_means"
      ],
      "metadata": {
        "colab": {
          "base_uri": "https://localhost:8080/"
        },
        "id": "6HT4s3zJK-x9",
        "outputId": "f92c879d-1fd6-4f5c-eb3c-c02a93604827"
      },
      "execution_count": 23,
      "outputs": [
        {
          "output_type": "execute_result",
          "data": {
            "text/plain": [
              "array([10.35, 10.65, 10.65, 10.7 , 10.7 , 11.05, 11.1 , 11.15, 11.3 ,\n",
              "       11.35, 11.5 , 11.65, 11.85, 12.05, 12.3 , 12.85, 13.5 , 14.3 ,\n",
              "       15.75])"
            ]
          },
          "metadata": {},
          "execution_count": 23
        }
      ]
    },
    {
      "cell_type": "code",
      "source": [
        "so"
      ],
      "metadata": {
        "colab": {
          "base_uri": "https://localhost:8080/"
        },
        "id": "1E_Z_OEZLFP4",
        "outputId": "1c29f0c1-8ca0-4e76-a1cc-29ca4f9b6826"
      },
      "execution_count": 25,
      "outputs": [
        {
          "output_type": "execute_result",
          "data": {
            "text/plain": [
              "array([115, 110, 105, 100,  95,  90,  85,  80,  75,  70,  65,  60,  55,\n",
              "        50,  45,  40,  35,  30,  25])"
            ]
          },
          "metadata": {},
          "execution_count": 25
        }
      ]
    },
    {
      "cell_type": "markdown",
      "source": [
        "###======= errores\n"
      ],
      "metadata": {
        "id": "hsvNVQcgIeRM"
      }
    },
    {
      "cell_type": "code",
      "source": [
        "error = np.array([ (x[1]-x[0])/2 for x in si_vect ])\n",
        "\n",
        "errordf = pd.DataFrame({'si':si_means , 'incertidumbre_si': error })\n",
        "\n",
        "\n",
        "disp_f = abs( ( so/(si_means + so) )**2 ) * error\n",
        "\n",
        "errordf['incertidumbre_f'] = disp_f\n",
        "\n",
        "errordf"
      ],
      "metadata": {
        "colab": {
          "base_uri": "https://localhost:8080/",
          "height": 645
        },
        "id": "1cBMExWIIdeo",
        "outputId": "c724f4fd-9578-4088-aa65-8befa23feb42"
      },
      "execution_count": 26,
      "outputs": [
        {
          "output_type": "execute_result",
          "data": {
            "text/plain": [
              "       si  incertidumbre_si  incertidumbre_f\n",
              "0   10.35              0.25         0.210420\n",
              "1   10.65              0.45         0.374062\n",
              "2   10.65              0.25         0.206076\n",
              "3   10.70              0.40         0.326411\n",
              "4   10.70              0.50         0.403894\n",
              "5   11.05              0.45         0.356964\n",
              "6   11.10              0.40         0.312933\n",
              "7   11.15              0.35         0.269609\n",
              "8   11.30              0.30         0.226580\n",
              "9   11.35              0.45         0.333191\n",
              "10  11.50              0.30         0.216583\n",
              "11  11.65              0.35         0.245436\n",
              "12  11.85              0.55         0.372293\n",
              "13  12.05              0.55         0.357124\n",
              "14  12.30              0.60         0.370056\n",
              "15  12.85              0.65         0.372343\n",
              "16  13.50              1.00         0.520778\n",
              "17  14.30              0.90         0.412741\n",
              "18  15.75              0.75         0.282284"
            ],
            "text/html": [
              "\n",
              "  <div id=\"df-17d455a8-6d16-4e7d-897d-aeb1fafe6e2c\">\n",
              "    <div class=\"colab-df-container\">\n",
              "      <div>\n",
              "<style scoped>\n",
              "    .dataframe tbody tr th:only-of-type {\n",
              "        vertical-align: middle;\n",
              "    }\n",
              "\n",
              "    .dataframe tbody tr th {\n",
              "        vertical-align: top;\n",
              "    }\n",
              "\n",
              "    .dataframe thead th {\n",
              "        text-align: right;\n",
              "    }\n",
              "</style>\n",
              "<table border=\"1\" class=\"dataframe\">\n",
              "  <thead>\n",
              "    <tr style=\"text-align: right;\">\n",
              "      <th></th>\n",
              "      <th>si</th>\n",
              "      <th>incertidumbre_si</th>\n",
              "      <th>incertidumbre_f</th>\n",
              "    </tr>\n",
              "  </thead>\n",
              "  <tbody>\n",
              "    <tr>\n",
              "      <th>0</th>\n",
              "      <td>10.35</td>\n",
              "      <td>0.25</td>\n",
              "      <td>0.210420</td>\n",
              "    </tr>\n",
              "    <tr>\n",
              "      <th>1</th>\n",
              "      <td>10.65</td>\n",
              "      <td>0.45</td>\n",
              "      <td>0.374062</td>\n",
              "    </tr>\n",
              "    <tr>\n",
              "      <th>2</th>\n",
              "      <td>10.65</td>\n",
              "      <td>0.25</td>\n",
              "      <td>0.206076</td>\n",
              "    </tr>\n",
              "    <tr>\n",
              "      <th>3</th>\n",
              "      <td>10.70</td>\n",
              "      <td>0.40</td>\n",
              "      <td>0.326411</td>\n",
              "    </tr>\n",
              "    <tr>\n",
              "      <th>4</th>\n",
              "      <td>10.70</td>\n",
              "      <td>0.50</td>\n",
              "      <td>0.403894</td>\n",
              "    </tr>\n",
              "    <tr>\n",
              "      <th>5</th>\n",
              "      <td>11.05</td>\n",
              "      <td>0.45</td>\n",
              "      <td>0.356964</td>\n",
              "    </tr>\n",
              "    <tr>\n",
              "      <th>6</th>\n",
              "      <td>11.10</td>\n",
              "      <td>0.40</td>\n",
              "      <td>0.312933</td>\n",
              "    </tr>\n",
              "    <tr>\n",
              "      <th>7</th>\n",
              "      <td>11.15</td>\n",
              "      <td>0.35</td>\n",
              "      <td>0.269609</td>\n",
              "    </tr>\n",
              "    <tr>\n",
              "      <th>8</th>\n",
              "      <td>11.30</td>\n",
              "      <td>0.30</td>\n",
              "      <td>0.226580</td>\n",
              "    </tr>\n",
              "    <tr>\n",
              "      <th>9</th>\n",
              "      <td>11.35</td>\n",
              "      <td>0.45</td>\n",
              "      <td>0.333191</td>\n",
              "    </tr>\n",
              "    <tr>\n",
              "      <th>10</th>\n",
              "      <td>11.50</td>\n",
              "      <td>0.30</td>\n",
              "      <td>0.216583</td>\n",
              "    </tr>\n",
              "    <tr>\n",
              "      <th>11</th>\n",
              "      <td>11.65</td>\n",
              "      <td>0.35</td>\n",
              "      <td>0.245436</td>\n",
              "    </tr>\n",
              "    <tr>\n",
              "      <th>12</th>\n",
              "      <td>11.85</td>\n",
              "      <td>0.55</td>\n",
              "      <td>0.372293</td>\n",
              "    </tr>\n",
              "    <tr>\n",
              "      <th>13</th>\n",
              "      <td>12.05</td>\n",
              "      <td>0.55</td>\n",
              "      <td>0.357124</td>\n",
              "    </tr>\n",
              "    <tr>\n",
              "      <th>14</th>\n",
              "      <td>12.30</td>\n",
              "      <td>0.60</td>\n",
              "      <td>0.370056</td>\n",
              "    </tr>\n",
              "    <tr>\n",
              "      <th>15</th>\n",
              "      <td>12.85</td>\n",
              "      <td>0.65</td>\n",
              "      <td>0.372343</td>\n",
              "    </tr>\n",
              "    <tr>\n",
              "      <th>16</th>\n",
              "      <td>13.50</td>\n",
              "      <td>1.00</td>\n",
              "      <td>0.520778</td>\n",
              "    </tr>\n",
              "    <tr>\n",
              "      <th>17</th>\n",
              "      <td>14.30</td>\n",
              "      <td>0.90</td>\n",
              "      <td>0.412741</td>\n",
              "    </tr>\n",
              "    <tr>\n",
              "      <th>18</th>\n",
              "      <td>15.75</td>\n",
              "      <td>0.75</td>\n",
              "      <td>0.282284</td>\n",
              "    </tr>\n",
              "  </tbody>\n",
              "</table>\n",
              "</div>\n",
              "      <button class=\"colab-df-convert\" onclick=\"convertToInteractive('df-17d455a8-6d16-4e7d-897d-aeb1fafe6e2c')\"\n",
              "              title=\"Convert this dataframe to an interactive table.\"\n",
              "              style=\"display:none;\">\n",
              "        \n",
              "  <svg xmlns=\"http://www.w3.org/2000/svg\" height=\"24px\"viewBox=\"0 0 24 24\"\n",
              "       width=\"24px\">\n",
              "    <path d=\"M0 0h24v24H0V0z\" fill=\"none\"/>\n",
              "    <path d=\"M18.56 5.44l.94 2.06.94-2.06 2.06-.94-2.06-.94-.94-2.06-.94 2.06-2.06.94zm-11 1L8.5 8.5l.94-2.06 2.06-.94-2.06-.94L8.5 2.5l-.94 2.06-2.06.94zm10 10l.94 2.06.94-2.06 2.06-.94-2.06-.94-.94-2.06-.94 2.06-2.06.94z\"/><path d=\"M17.41 7.96l-1.37-1.37c-.4-.4-.92-.59-1.43-.59-.52 0-1.04.2-1.43.59L10.3 9.45l-7.72 7.72c-.78.78-.78 2.05 0 2.83L4 21.41c.39.39.9.59 1.41.59.51 0 1.02-.2 1.41-.59l7.78-7.78 2.81-2.81c.8-.78.8-2.07 0-2.86zM5.41 20L4 18.59l7.72-7.72 1.47 1.35L5.41 20z\"/>\n",
              "  </svg>\n",
              "      </button>\n",
              "      \n",
              "  <style>\n",
              "    .colab-df-container {\n",
              "      display:flex;\n",
              "      flex-wrap:wrap;\n",
              "      gap: 12px;\n",
              "    }\n",
              "\n",
              "    .colab-df-convert {\n",
              "      background-color: #E8F0FE;\n",
              "      border: none;\n",
              "      border-radius: 50%;\n",
              "      cursor: pointer;\n",
              "      display: none;\n",
              "      fill: #1967D2;\n",
              "      height: 32px;\n",
              "      padding: 0 0 0 0;\n",
              "      width: 32px;\n",
              "    }\n",
              "\n",
              "    .colab-df-convert:hover {\n",
              "      background-color: #E2EBFA;\n",
              "      box-shadow: 0px 1px 2px rgba(60, 64, 67, 0.3), 0px 1px 3px 1px rgba(60, 64, 67, 0.15);\n",
              "      fill: #174EA6;\n",
              "    }\n",
              "\n",
              "    [theme=dark] .colab-df-convert {\n",
              "      background-color: #3B4455;\n",
              "      fill: #D2E3FC;\n",
              "    }\n",
              "\n",
              "    [theme=dark] .colab-df-convert:hover {\n",
              "      background-color: #434B5C;\n",
              "      box-shadow: 0px 1px 3px 1px rgba(0, 0, 0, 0.15);\n",
              "      filter: drop-shadow(0px 1px 2px rgba(0, 0, 0, 0.3));\n",
              "      fill: #FFFFFF;\n",
              "    }\n",
              "  </style>\n",
              "\n",
              "      <script>\n",
              "        const buttonEl =\n",
              "          document.querySelector('#df-17d455a8-6d16-4e7d-897d-aeb1fafe6e2c button.colab-df-convert');\n",
              "        buttonEl.style.display =\n",
              "          google.colab.kernel.accessAllowed ? 'block' : 'none';\n",
              "\n",
              "        async function convertToInteractive(key) {\n",
              "          const element = document.querySelector('#df-17d455a8-6d16-4e7d-897d-aeb1fafe6e2c');\n",
              "          const dataTable =\n",
              "            await google.colab.kernel.invokeFunction('convertToInteractive',\n",
              "                                                     [key], {});\n",
              "          if (!dataTable) return;\n",
              "\n",
              "          const docLinkHtml = 'Like what you see? Visit the ' +\n",
              "            '<a target=\"_blank\" href=https://colab.research.google.com/notebooks/data_table.ipynb>data table notebook</a>'\n",
              "            + ' to learn more about interactive tables.';\n",
              "          element.innerHTML = '';\n",
              "          dataTable['output_type'] = 'display_data';\n",
              "          await google.colab.output.renderOutput(dataTable, element);\n",
              "          const docLink = document.createElement('div');\n",
              "          docLink.innerHTML = docLinkHtml;\n",
              "          element.appendChild(docLink);\n",
              "        }\n",
              "      </script>\n",
              "    </div>\n",
              "  </div>\n",
              "  "
            ]
          },
          "metadata": {},
          "execution_count": 26
        }
      ]
    },
    {
      "cell_type": "code",
      "source": [
        "errordf['incertidumbre_f'].mean()"
      ],
      "metadata": {
        "colab": {
          "base_uri": "https://localhost:8080/"
        },
        "id": "6Jqre5BkL3tn",
        "outputId": "7d154b4f-17f9-43d4-a367-02065a8fd15b"
      },
      "execution_count": 31,
      "outputs": [
        {
          "output_type": "execute_result",
          "data": {
            "text/plain": [
              "0.32472518949161266"
            ]
          },
          "metadata": {},
          "execution_count": 31
        }
      ]
    },
    {
      "cell_type": "markdown",
      "source": [
        "# 1/Si y 1/So"
      ],
      "metadata": {
        "id": "Lq1xFtdqUY_R"
      }
    },
    {
      "cell_type": "code",
      "source": [
        "si_1 = 1/si_means\n",
        "so_1 = 1/so"
      ],
      "metadata": {
        "id": "aphz2icnRkqu"
      },
      "execution_count": 7,
      "outputs": []
    },
    {
      "cell_type": "markdown",
      "source": [
        "#========= Tabla ========="
      ],
      "metadata": {
        "id": "Icc01epGUjWY"
      }
    },
    {
      "cell_type": "code",
      "source": [
        "df1 = pd.DataFrame({'si': si_means, 'so': so, '1/si': si_1, '1/so': so_1})"
      ],
      "metadata": {
        "id": "5coq1jDiR3Ms"
      },
      "execution_count": 8,
      "outputs": []
    },
    {
      "cell_type": "code",
      "source": [
        "df1"
      ],
      "metadata": {
        "colab": {
          "base_uri": "https://localhost:8080/",
          "height": 645
        },
        "id": "2XeWczL6SXB2",
        "outputId": "b0ab651f-c258-4d35-b974-400f946f21fe"
      },
      "execution_count": 9,
      "outputs": [
        {
          "output_type": "execute_result",
          "data": {
            "text/plain": [
              "       si   so      1/si      1/so\n",
              "0   10.35  115  0.096618  0.008696\n",
              "1   10.65  110  0.093897  0.009091\n",
              "2   10.65  105  0.093897  0.009524\n",
              "3   10.70  100  0.093458  0.010000\n",
              "4   10.70   95  0.093458  0.010526\n",
              "5   11.05   90  0.090498  0.011111\n",
              "6   11.10   85  0.090090  0.011765\n",
              "7   11.15   80  0.089686  0.012500\n",
              "8   11.30   75  0.088496  0.013333\n",
              "9   11.35   70  0.088106  0.014286\n",
              "10  11.50   65  0.086957  0.015385\n",
              "11  11.65   60  0.085837  0.016667\n",
              "12  11.85   55  0.084388  0.018182\n",
              "13  12.05   50  0.082988  0.020000\n",
              "14  12.30   45  0.081301  0.022222\n",
              "15  12.85   40  0.077821  0.025000\n",
              "16  13.50   35  0.074074  0.028571\n",
              "17  14.30   30  0.069930  0.033333\n",
              "18  15.75   25  0.063492  0.040000"
            ],
            "text/html": [
              "\n",
              "  <div id=\"df-d22cb392-f672-4555-9d6d-af42b19e34c5\">\n",
              "    <div class=\"colab-df-container\">\n",
              "      <div>\n",
              "<style scoped>\n",
              "    .dataframe tbody tr th:only-of-type {\n",
              "        vertical-align: middle;\n",
              "    }\n",
              "\n",
              "    .dataframe tbody tr th {\n",
              "        vertical-align: top;\n",
              "    }\n",
              "\n",
              "    .dataframe thead th {\n",
              "        text-align: right;\n",
              "    }\n",
              "</style>\n",
              "<table border=\"1\" class=\"dataframe\">\n",
              "  <thead>\n",
              "    <tr style=\"text-align: right;\">\n",
              "      <th></th>\n",
              "      <th>si</th>\n",
              "      <th>so</th>\n",
              "      <th>1/si</th>\n",
              "      <th>1/so</th>\n",
              "    </tr>\n",
              "  </thead>\n",
              "  <tbody>\n",
              "    <tr>\n",
              "      <th>0</th>\n",
              "      <td>10.35</td>\n",
              "      <td>115</td>\n",
              "      <td>0.096618</td>\n",
              "      <td>0.008696</td>\n",
              "    </tr>\n",
              "    <tr>\n",
              "      <th>1</th>\n",
              "      <td>10.65</td>\n",
              "      <td>110</td>\n",
              "      <td>0.093897</td>\n",
              "      <td>0.009091</td>\n",
              "    </tr>\n",
              "    <tr>\n",
              "      <th>2</th>\n",
              "      <td>10.65</td>\n",
              "      <td>105</td>\n",
              "      <td>0.093897</td>\n",
              "      <td>0.009524</td>\n",
              "    </tr>\n",
              "    <tr>\n",
              "      <th>3</th>\n",
              "      <td>10.70</td>\n",
              "      <td>100</td>\n",
              "      <td>0.093458</td>\n",
              "      <td>0.010000</td>\n",
              "    </tr>\n",
              "    <tr>\n",
              "      <th>4</th>\n",
              "      <td>10.70</td>\n",
              "      <td>95</td>\n",
              "      <td>0.093458</td>\n",
              "      <td>0.010526</td>\n",
              "    </tr>\n",
              "    <tr>\n",
              "      <th>5</th>\n",
              "      <td>11.05</td>\n",
              "      <td>90</td>\n",
              "      <td>0.090498</td>\n",
              "      <td>0.011111</td>\n",
              "    </tr>\n",
              "    <tr>\n",
              "      <th>6</th>\n",
              "      <td>11.10</td>\n",
              "      <td>85</td>\n",
              "      <td>0.090090</td>\n",
              "      <td>0.011765</td>\n",
              "    </tr>\n",
              "    <tr>\n",
              "      <th>7</th>\n",
              "      <td>11.15</td>\n",
              "      <td>80</td>\n",
              "      <td>0.089686</td>\n",
              "      <td>0.012500</td>\n",
              "    </tr>\n",
              "    <tr>\n",
              "      <th>8</th>\n",
              "      <td>11.30</td>\n",
              "      <td>75</td>\n",
              "      <td>0.088496</td>\n",
              "      <td>0.013333</td>\n",
              "    </tr>\n",
              "    <tr>\n",
              "      <th>9</th>\n",
              "      <td>11.35</td>\n",
              "      <td>70</td>\n",
              "      <td>0.088106</td>\n",
              "      <td>0.014286</td>\n",
              "    </tr>\n",
              "    <tr>\n",
              "      <th>10</th>\n",
              "      <td>11.50</td>\n",
              "      <td>65</td>\n",
              "      <td>0.086957</td>\n",
              "      <td>0.015385</td>\n",
              "    </tr>\n",
              "    <tr>\n",
              "      <th>11</th>\n",
              "      <td>11.65</td>\n",
              "      <td>60</td>\n",
              "      <td>0.085837</td>\n",
              "      <td>0.016667</td>\n",
              "    </tr>\n",
              "    <tr>\n",
              "      <th>12</th>\n",
              "      <td>11.85</td>\n",
              "      <td>55</td>\n",
              "      <td>0.084388</td>\n",
              "      <td>0.018182</td>\n",
              "    </tr>\n",
              "    <tr>\n",
              "      <th>13</th>\n",
              "      <td>12.05</td>\n",
              "      <td>50</td>\n",
              "      <td>0.082988</td>\n",
              "      <td>0.020000</td>\n",
              "    </tr>\n",
              "    <tr>\n",
              "      <th>14</th>\n",
              "      <td>12.30</td>\n",
              "      <td>45</td>\n",
              "      <td>0.081301</td>\n",
              "      <td>0.022222</td>\n",
              "    </tr>\n",
              "    <tr>\n",
              "      <th>15</th>\n",
              "      <td>12.85</td>\n",
              "      <td>40</td>\n",
              "      <td>0.077821</td>\n",
              "      <td>0.025000</td>\n",
              "    </tr>\n",
              "    <tr>\n",
              "      <th>16</th>\n",
              "      <td>13.50</td>\n",
              "      <td>35</td>\n",
              "      <td>0.074074</td>\n",
              "      <td>0.028571</td>\n",
              "    </tr>\n",
              "    <tr>\n",
              "      <th>17</th>\n",
              "      <td>14.30</td>\n",
              "      <td>30</td>\n",
              "      <td>0.069930</td>\n",
              "      <td>0.033333</td>\n",
              "    </tr>\n",
              "    <tr>\n",
              "      <th>18</th>\n",
              "      <td>15.75</td>\n",
              "      <td>25</td>\n",
              "      <td>0.063492</td>\n",
              "      <td>0.040000</td>\n",
              "    </tr>\n",
              "  </tbody>\n",
              "</table>\n",
              "</div>\n",
              "      <button class=\"colab-df-convert\" onclick=\"convertToInteractive('df-d22cb392-f672-4555-9d6d-af42b19e34c5')\"\n",
              "              title=\"Convert this dataframe to an interactive table.\"\n",
              "              style=\"display:none;\">\n",
              "        \n",
              "  <svg xmlns=\"http://www.w3.org/2000/svg\" height=\"24px\"viewBox=\"0 0 24 24\"\n",
              "       width=\"24px\">\n",
              "    <path d=\"M0 0h24v24H0V0z\" fill=\"none\"/>\n",
              "    <path d=\"M18.56 5.44l.94 2.06.94-2.06 2.06-.94-2.06-.94-.94-2.06-.94 2.06-2.06.94zm-11 1L8.5 8.5l.94-2.06 2.06-.94-2.06-.94L8.5 2.5l-.94 2.06-2.06.94zm10 10l.94 2.06.94-2.06 2.06-.94-2.06-.94-.94-2.06-.94 2.06-2.06.94z\"/><path d=\"M17.41 7.96l-1.37-1.37c-.4-.4-.92-.59-1.43-.59-.52 0-1.04.2-1.43.59L10.3 9.45l-7.72 7.72c-.78.78-.78 2.05 0 2.83L4 21.41c.39.39.9.59 1.41.59.51 0 1.02-.2 1.41-.59l7.78-7.78 2.81-2.81c.8-.78.8-2.07 0-2.86zM5.41 20L4 18.59l7.72-7.72 1.47 1.35L5.41 20z\"/>\n",
              "  </svg>\n",
              "      </button>\n",
              "      \n",
              "  <style>\n",
              "    .colab-df-container {\n",
              "      display:flex;\n",
              "      flex-wrap:wrap;\n",
              "      gap: 12px;\n",
              "    }\n",
              "\n",
              "    .colab-df-convert {\n",
              "      background-color: #E8F0FE;\n",
              "      border: none;\n",
              "      border-radius: 50%;\n",
              "      cursor: pointer;\n",
              "      display: none;\n",
              "      fill: #1967D2;\n",
              "      height: 32px;\n",
              "      padding: 0 0 0 0;\n",
              "      width: 32px;\n",
              "    }\n",
              "\n",
              "    .colab-df-convert:hover {\n",
              "      background-color: #E2EBFA;\n",
              "      box-shadow: 0px 1px 2px rgba(60, 64, 67, 0.3), 0px 1px 3px 1px rgba(60, 64, 67, 0.15);\n",
              "      fill: #174EA6;\n",
              "    }\n",
              "\n",
              "    [theme=dark] .colab-df-convert {\n",
              "      background-color: #3B4455;\n",
              "      fill: #D2E3FC;\n",
              "    }\n",
              "\n",
              "    [theme=dark] .colab-df-convert:hover {\n",
              "      background-color: #434B5C;\n",
              "      box-shadow: 0px 1px 3px 1px rgba(0, 0, 0, 0.15);\n",
              "      filter: drop-shadow(0px 1px 2px rgba(0, 0, 0, 0.3));\n",
              "      fill: #FFFFFF;\n",
              "    }\n",
              "  </style>\n",
              "\n",
              "      <script>\n",
              "        const buttonEl =\n",
              "          document.querySelector('#df-d22cb392-f672-4555-9d6d-af42b19e34c5 button.colab-df-convert');\n",
              "        buttonEl.style.display =\n",
              "          google.colab.kernel.accessAllowed ? 'block' : 'none';\n",
              "\n",
              "        async function convertToInteractive(key) {\n",
              "          const element = document.querySelector('#df-d22cb392-f672-4555-9d6d-af42b19e34c5');\n",
              "          const dataTable =\n",
              "            await google.colab.kernel.invokeFunction('convertToInteractive',\n",
              "                                                     [key], {});\n",
              "          if (!dataTable) return;\n",
              "\n",
              "          const docLinkHtml = 'Like what you see? Visit the ' +\n",
              "            '<a target=\"_blank\" href=https://colab.research.google.com/notebooks/data_table.ipynb>data table notebook</a>'\n",
              "            + ' to learn more about interactive tables.';\n",
              "          element.innerHTML = '';\n",
              "          dataTable['output_type'] = 'display_data';\n",
              "          await google.colab.output.renderOutput(dataTable, element);\n",
              "          const docLink = document.createElement('div');\n",
              "          docLink.innerHTML = docLinkHtml;\n",
              "          element.appendChild(docLink);\n",
              "        }\n",
              "      </script>\n",
              "    </div>\n",
              "  </div>\n",
              "  "
            ]
          },
          "metadata": {},
          "execution_count": 9
        }
      ]
    },
    {
      "cell_type": "markdown",
      "source": [
        "#========= graficas sin ajuste ========="
      ],
      "metadata": {
        "id": "zNrTzegnUp3T"
      }
    },
    {
      "cell_type": "code",
      "source": [
        "#error = np.array([ (x[1]-x[0])/2 for x in si_vect ])\n",
        "\n",
        "# Create the scatter plot and plot the error bars\n",
        "plt.errorbar(df1['si'], df1['so'], xerr=errordf['incertidumbre_si'], fmt='o', markersize=3, capsize=5, ecolor='red', elinewidth=1, capthick=1)\n",
        "\n",
        "plt.xlabel('Si')\n",
        "plt.ylabel('So')\n",
        "plt.title('So vs Si')\n",
        "\n",
        "plt.show()"
      ],
      "metadata": {
        "colab": {
          "base_uri": "https://localhost:8080/",
          "height": 472
        },
        "id": "kJVy2Zz5SYBp",
        "outputId": "af9cbdd8-108b-49e9-9965-dab58b185331"
      },
      "execution_count": 27,
      "outputs": [
        {
          "output_type": "display_data",
          "data": {
            "text/plain": [
              "<Figure size 640x480 with 1 Axes>"
            ],
            "image/png": "[encoded data removed]"
          },
          "metadata": {}
        }
      ]
    },
    {
      "cell_type": "code",
      "source": [
        "plt.plot(df1['1/si'], df1['1/so'], 'bo')\n",
        "\n",
        "#error2 = np.array([ ((x[1]-x[0])/2) for x in si_vect ])\n",
        "\n",
        "# Create the scatter plot and plot the error bars\n",
        "#plt.errorbar(df1['1/si'], df1['1/so'], yerr=np.sqrt(errordf['incertidumbre_f']), fmt='o', markersize=3, capsize=5, ecolor='red', elinewidth=1, capthick=1)\n",
        "\n",
        "plt.xlabel('1/Si')\n",
        "plt.ylabel('1/So')\n",
        "plt.title('1/So vs 1/Si')\n",
        "\n",
        "plt.show()\n"
      ],
      "metadata": {
        "colab": {
          "base_uri": "https://localhost:8080/",
          "height": 472
        },
        "id": "rFksZPsCSqH-",
        "outputId": "0fc167e6-07e6-480d-c400-e93c964f5f80"
      },
      "execution_count": 33,
      "outputs": [
        {
          "output_type": "display_data",
          "data": {
            "text/plain": [
              "<Figure size 640x480 with 1 Axes>"
            ],
            "image/png": "[encoded data removed]"
          },
          "metadata": {}
        }
      ]
    },
    {
      "cell_type": "markdown",
      "source": [
        "#========= ajuste lineal para los inversos =========\n"
      ],
      "metadata": {
        "id": "JExC9PRoUv_L"
      }
    },
    {
      "cell_type": "code",
      "source": [
        "#Realizar el ajuste lineal y mostrar los resultados\n",
        "L_slope, L_intercept, L_r_value, L_p_value, L_std_err = linregress(df1['1/si'], df1['1/so'])\n",
        "\n",
        "print('Pendiente:', L_slope)\n",
        "print('Intersección:', L_intercept)\n",
        "print('Coeficiente de correlación:', L_r_value)\n",
        "print('Valor p:', L_p_value)\n",
        "print('Error estándar:', L_std_err)"
      ],
      "metadata": {
        "colab": {
          "base_uri": "https://localhost:8080/"
        },
        "id": "GCdmsCJaSyQF",
        "outputId": "d7c13ff4-8f01-4a91-b232-1588f5b69de5"
      },
      "execution_count": 12,
      "outputs": [
        {
          "output_type": "stream",
          "name": "stdout",
          "text": [
            "Pendiente: -0.9945914268231367\n",
            "Intersección: 0.10244172947069777\n",
            "Coeficiente de correlación: -0.9951204422041516\n",
            "Valor p: 1.5247686431159849e-18\n",
            "Error estándar: 0.023917698958350674\n"
          ]
        }
      ]
    },
    {
      "cell_type": "markdown",
      "source": [
        "##========= grafica con ajuste para los inversos"
      ],
      "metadata": {
        "id": "CkHm23IkU1pi"
      }
    },
    {
      "cell_type": "code",
      "source": [
        "error = np.array([ y[1]-y[0] for y in si_vect ])\n",
        "\n",
        "\n",
        "\n",
        "plt.plot(df1['1/si'], df1['1/so'], 'bo')\n",
        "plt.plot(df1['1/si'], L_slope*df1['1/si']+L_intercept, #y = mb + b\n",
        "            'r-', label='Ajuste lineal')\n",
        "\n",
        "#plt.errorbar(df1['1/si'], df1['1/so'], yerr=error, fmt='none')\n",
        "\n",
        "\n",
        "\n",
        "#=====\n",
        "\n",
        "plt.xlabel('1/si')\n",
        "plt.ylabel('s/so')\n",
        "plt.title('1/so vs 1/si')\n",
        "plt.show()"
      ],
      "metadata": {
        "colab": {
          "base_uri": "https://localhost:8080/",
          "height": 472
        },
        "id": "1aX0TaXYTRoQ",
        "outputId": "438743c6-cdb1-4736-f07f-fa7c1414235d"
      },
      "execution_count": 13,
      "outputs": [
        {
          "output_type": "display_data",
          "data": {
            "text/plain": [
              "<Figure size 640x480 with 1 Axes>"
            ],
            "image/png": "[encoded data removed]"
          },
          "metadata": {}
        }
      ]
    },
    {
      "cell_type": "markdown",
      "source": [
        "#EJEMPLO BARRAS DE ERROR"
      ],
      "metadata": {
        "id": "tTs8KyApf7Rk"
      }
    },
    {
      "cell_type": "code",
      "source": [
        "import matplotlib.pyplot as plt\n",
        "import numpy as np\n",
        "\n",
        "x = np.array([1, 2, 3, 4, 5])\n",
        "y = np.array([3, 5, 4, 6, 7])\n",
        "error = np.array([0.5, 0.4, 0.6, 0.8, 0.7])\n",
        "\n",
        "plt.scatter(x, y)\n",
        "plt.errorbar(x, y, yerr=error, fmt='none')\n",
        "\n",
        "slope, intercept = np.polyfit(x, y, 1)\n",
        "plt.plot(x, slope*x + intercept, color='red')\n",
        "\n",
        "plt.xlabel('Eje X')\n",
        "plt.ylabel('Eje Y')\n",
        "plt.title('Gráfica con puntos y barras de error')\n",
        "\n",
        "plt.show()\n"
      ],
      "metadata": {
        "colab": {
          "base_uri": "https://localhost:8080/",
          "height": 472
        },
        "id": "LVC-K955a4tE",
        "outputId": "10c673bf-87d6-4780-e4d2-dfd218947dc5"
      },
      "execution_count": 14,
      "outputs": [
        {
          "output_type": "display_data",
          "data": {
            "text/plain": [
              "<Figure size 640x480 with 1 Axes>"
            ],
            "image/png": "[encoded data removed]"
          },
          "metadata": {}
        }
      ]
    },
    {
      "cell_type": "code",
      "source": [
        "import matplotlib.pyplot as plt\n",
        "import numpy as np\n",
        "\n",
        "# Define the data\n",
        "si = [1, 2, 3, 4, 5]\n",
        "so = [2, 4, 6, 8, 10]\n",
        "error = [0.5, 0.7, 0.8, 1.2, 1.5]\n",
        "\n",
        "# Create the scatter plot\n",
        "plt.scatter(si, so)\n",
        "\n",
        "# Plot the error bars\n",
        "plt.errorbar(si, so, yerr=error, fmt='none')\n",
        "\n",
        "# Add labels and title\n",
        "plt.xlabel('Si')\n",
        "plt.ylabel('So')\n",
        "plt.title('So vs Si')\n",
        "\n",
        "# Show the plot\n",
        "plt.show()"
      ],
      "metadata": {
        "id": "D0P5JXwGf3jW",
        "colab": {
          "base_uri": "https://localhost:8080/",
          "height": 472
        },
        "outputId": "75fe7366-76ca-4e16-feac-a3ee22a15097"
      },
      "execution_count": 15,
      "outputs": [
        {
          "output_type": "display_data",
          "data": {
            "text/plain": [
              "<Figure size 640x480 with 1 Axes>"
            ],
            "image/png": "[encoded data removed]"
          },
          "metadata": {}
        }
      ]
    },
    {
      "cell_type": "code",
      "source": [],
      "metadata": {
        "id": "-TZuxOaOPjnu"
      },
      "execution_count": 15,
      "outputs": []
    }
  ]
}