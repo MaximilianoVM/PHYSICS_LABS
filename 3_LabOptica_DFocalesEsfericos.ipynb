{
  "nbformat": 4,
  "nbformat_minor": 0,
  "metadata": {
    "colab": {
      "provenance": [],
      "authorship_tag": "ABX9TyP6ltvJfKG+nUhgJeZOnGX/",
      "include_colab_link": true
    },
    "kernelspec": {
      "name": "python3",
      "display_name": "Python 3"
    },
    "language_info": {
      "name": "python"
    }
  },
  "cells": [
    {
      "cell_type": "markdown",
      "metadata": {
        "id": "view-in-github",
        "colab_type": "text"
      },
      "source": [
        "<a href=\"https://colab.research.google.com/github/MaximilianoVM/OPTICS-LAB-2023-1/blob/main/3_LabOptica_DFocalesEsfericos.ipynb\" target=\"_parent\"><img src=\"https://colab.research.google.com/assets/colab-badge.svg\" alt=\"Open In Colab\"/></a>"
      ]
    },
    {
      "cell_type": "code",
      "execution_count": null,
      "metadata": {
        "id": "hE5pRx86O11h"
      },
      "outputs": [],
      "source": [
        "import pandas as pd\n",
        "import numpy as np\n",
        "import matplotlib.pyplot as plt\n",
        "from scipy.stats import linregress\n",
        "import math \n",
        "from sklearn.metrics import mean_squared_error, mean_absolute_error, r2_score"
      ]
    },
    {
      "cell_type": "markdown",
      "source": [
        "#Si y So "
      ],
      "metadata": {
        "id": "OknZVEAzURN7"
      }
    },
    {
      "cell_type": "code",
      "source": [
        "   #So:Si\n",
        "\n",
        "s = {115: (10.1, 10.6), \n",
        "     110: (10.2, 11.1), \n",
        "     105: (10.4, 10.9), \n",
        "     100: (10.3, 11.1), \n",
        "     95 : (10.2, 11.2), \n",
        "     90 : (10.6, 11.5),\n",
        "     85 : (10.7, 11.5),\n",
        "     80 : (10.8, 11.5),\n",
        "     75 : (11  , 11.6),\n",
        "     70 : (10.9, 11.8),\n",
        "     65 : (11.2, 11.8),\n",
        "     60 : (11.3, 12  ),\n",
        "     55 : (11.3, 12.4),\n",
        "     50 : (11.5, 12.6), #es claro durante un intervalo mas grande\n",
        "     45 : (11.7, 12.9),\n",
        "     40 : (12.2, 13.5),\n",
        "     35 : (12.5, 14.5),\n",
        "     30 : (13.4, 15.2),\n",
        "     25 : (15  , 16.5)\n",
        "\n",
        "     \n",
        "     }\n",
        "\n",
        "\n",
        "\n",
        "so = np.array( list(s.keys()) )\n",
        "\n",
        "si_vect = np.array( list(s.values()) )\n",
        "\n",
        "si_means = np.array([np.mean(v) for v in si_vect])\n",
        "\n",
        "error = np.array([ y[1]-y[0] for y in si_vect ])\n",
        "\n",
        "print(si_means)\n",
        "print(error)\n"
      ],
      "metadata": {
        "id": "YZ3zrqdtSgW3",
        "colab": {
          "base_uri": "https://localhost:8080/"
        },
        "outputId": "a66cee09-73ee-439e-e84d-51dd34e87f3e"
      },
      "execution_count": null,
      "outputs": [
        {
          "output_type": "stream",
          "name": "stdout",
          "text": [
            "[10.35 10.65 10.65 10.7  10.7  11.05 11.1  11.15 11.3  11.35 11.5  11.65\n",
            " 11.85 12.05 12.3  12.85 13.5  14.3  15.75]\n",
            "[0.5 0.9 0.5 0.8 1.  0.9 0.8 0.7 0.6 0.9 0.6 0.7 1.1 1.1 1.2 1.3 2.  1.8\n",
            " 1.5]\n"
          ]
        }
      ]
    },
    {
      "cell_type": "markdown",
      "source": [
        "# 1/Si y 1/So"
      ],
      "metadata": {
        "id": "Lq1xFtdqUY_R"
      }
    },
    {
      "cell_type": "code",
      "source": [
        "si_1 = 1/si_means\n",
        "so_1 = 1/so"
      ],
      "metadata": {
        "id": "aphz2icnRkqu"
      },
      "execution_count": null,
      "outputs": []
    },
    {
      "cell_type": "markdown",
      "source": [
        "#========= Tabla ========="
      ],
      "metadata": {
        "id": "Icc01epGUjWY"
      }
    },
    {
      "cell_type": "code",
      "source": [
        "df1 = pd.DataFrame({'si': si_means, 'so': so, '1/si': si_1, '1/so': so_1})"
      ],
      "metadata": {
        "id": "5coq1jDiR3Ms"
      },
      "execution_count": null,
      "outputs": []
    },
    {
      "cell_type": "code",
      "source": [
        "df1"
      ],
      "metadata": {
        "colab": {
          "base_uri": "https://localhost:8080/",
          "height": 645
        },
        "id": "2XeWczL6SXB2",
        "outputId": "33ca500f-fcc7-43cb-c3db-f8d9bacb260b"
      },
      "execution_count": null,
      "outputs": [
        {
          "output_type": "execute_result",
          "data": {
            "text/plain": [
              "       si   so      1/si      1/so\n",
              "0   10.35  115  0.096618  0.008696\n",
              "1   10.65  110  0.093897  0.009091\n",
              "2   10.65  105  0.093897  0.009524\n",
              "3   10.70  100  0.093458  0.010000\n",
              "4   10.70   95  0.093458  0.010526\n",
              "5   11.05   90  0.090498  0.011111\n",
              "6   11.10   85  0.090090  0.011765\n",
              "7   11.15   80  0.089686  0.012500\n",
              "8   11.30   75  0.088496  0.013333\n",
              "9   11.35   70  0.088106  0.014286\n",
              "10  11.50   65  0.086957  0.015385\n",
              "11  11.65   60  0.085837  0.016667\n",
              "12  11.85   55  0.084388  0.018182\n",
              "13  12.05   50  0.082988  0.020000\n",
              "14  12.30   45  0.081301  0.022222\n",
              "15  12.85   40  0.077821  0.025000\n",
              "16  13.50   35  0.074074  0.028571\n",
              "17  14.30   30  0.069930  0.033333\n",
              "18  15.75   25  0.063492  0.040000"
            ],
            "text/html": [
              "\n",
              "  <div id=\"df-f601f2db-067b-47ca-84e1-90f6faa16fa5\">\n",
              "    <div class=\"colab-df-container\">\n",
              "      <div>\n",
              "<style scoped>\n",
              "    .dataframe tbody tr th:only-of-type {\n",
              "        vertical-align: middle;\n",
              "    }\n",
              "\n",
              "    .dataframe tbody tr th {\n",
              "        vertical-align: top;\n",
              "    }\n",
              "\n",
              "    .dataframe thead th {\n",
              "        text-align: right;\n",
              "    }\n",
              "</style>\n",
              "<table border=\"1\" class=\"dataframe\">\n",
              "  <thead>\n",
              "    <tr style=\"text-align: right;\">\n",
              "      <th></th>\n",
              "      <th>si</th>\n",
              "      <th>so</th>\n",
              "      <th>1/si</th>\n",
              "      <th>1/so</th>\n",
              "    </tr>\n",
              "  </thead>\n",
              "  <tbody>\n",
              "    <tr>\n",
              "      <th>0</th>\n",
              "      <td>10.35</td>\n",
              "      <td>115</td>\n",
              "      <td>0.096618</td>\n",
              "      <td>0.008696</td>\n",
              "    </tr>\n",
              "    <tr>\n",
              "      <th>1</th>\n",
              "      <td>10.65</td>\n",
              "      <td>110</td>\n",
              "      <td>0.093897</td>\n",
              "      <td>0.009091</td>\n",
              "    </tr>\n",
              "    <tr>\n",
              "      <th>2</th>\n",
              "      <td>10.65</td>\n",
              "      <td>105</td>\n",
              "      <td>0.093897</td>\n",
              "      <td>0.009524</td>\n",
              "    </tr>\n",
              "    <tr>\n",
              "      <th>3</th>\n",
              "      <td>10.70</td>\n",
              "      <td>100</td>\n",
              "      <td>0.093458</td>\n",
              "      <td>0.010000</td>\n",
              "    </tr>\n",
              "    <tr>\n",
              "      <th>4</th>\n",
              "      <td>10.70</td>\n",
              "      <td>95</td>\n",
              "      <td>0.093458</td>\n",
              "      <td>0.010526</td>\n",
              "    </tr>\n",
              "    <tr>\n",
              "      <th>5</th>\n",
              "      <td>11.05</td>\n",
              "      <td>90</td>\n",
              "      <td>0.090498</td>\n",
              "      <td>0.011111</td>\n",
              "    </tr>\n",
              "    <tr>\n",
              "      <th>6</th>\n",
              "      <td>11.10</td>\n",
              "      <td>85</td>\n",
              "      <td>0.090090</td>\n",
              "      <td>0.011765</td>\n",
              "    </tr>\n",
              "    <tr>\n",
              "      <th>7</th>\n",
              "      <td>11.15</td>\n",
              "      <td>80</td>\n",
              "      <td>0.089686</td>\n",
              "      <td>0.012500</td>\n",
              "    </tr>\n",
              "    <tr>\n",
              "      <th>8</th>\n",
              "      <td>11.30</td>\n",
              "      <td>75</td>\n",
              "      <td>0.088496</td>\n",
              "      <td>0.013333</td>\n",
              "    </tr>\n",
              "    <tr>\n",
              "      <th>9</th>\n",
              "      <td>11.35</td>\n",
              "      <td>70</td>\n",
              "      <td>0.088106</td>\n",
              "      <td>0.014286</td>\n",
              "    </tr>\n",
              "    <tr>\n",
              "      <th>10</th>\n",
              "      <td>11.50</td>\n",
              "      <td>65</td>\n",
              "      <td>0.086957</td>\n",
              "      <td>0.015385</td>\n",
              "    </tr>\n",
              "    <tr>\n",
              "      <th>11</th>\n",
              "      <td>11.65</td>\n",
              "      <td>60</td>\n",
              "      <td>0.085837</td>\n",
              "      <td>0.016667</td>\n",
              "    </tr>\n",
              "    <tr>\n",
              "      <th>12</th>\n",
              "      <td>11.85</td>\n",
              "      <td>55</td>\n",
              "      <td>0.084388</td>\n",
              "      <td>0.018182</td>\n",
              "    </tr>\n",
              "    <tr>\n",
              "      <th>13</th>\n",
              "      <td>12.05</td>\n",
              "      <td>50</td>\n",
              "      <td>0.082988</td>\n",
              "      <td>0.020000</td>\n",
              "    </tr>\n",
              "    <tr>\n",
              "      <th>14</th>\n",
              "      <td>12.30</td>\n",
              "      <td>45</td>\n",
              "      <td>0.081301</td>\n",
              "      <td>0.022222</td>\n",
              "    </tr>\n",
              "    <tr>\n",
              "      <th>15</th>\n",
              "      <td>12.85</td>\n",
              "      <td>40</td>\n",
              "      <td>0.077821</td>\n",
              "      <td>0.025000</td>\n",
              "    </tr>\n",
              "    <tr>\n",
              "      <th>16</th>\n",
              "      <td>13.50</td>\n",
              "      <td>35</td>\n",
              "      <td>0.074074</td>\n",
              "      <td>0.028571</td>\n",
              "    </tr>\n",
              "    <tr>\n",
              "      <th>17</th>\n",
              "      <td>14.30</td>\n",
              "      <td>30</td>\n",
              "      <td>0.069930</td>\n",
              "      <td>0.033333</td>\n",
              "    </tr>\n",
              "    <tr>\n",
              "      <th>18</th>\n",
              "      <td>15.75</td>\n",
              "      <td>25</td>\n",
              "      <td>0.063492</td>\n",
              "      <td>0.040000</td>\n",
              "    </tr>\n",
              "  </tbody>\n",
              "</table>\n",
              "</div>\n",
              "      <button class=\"colab-df-convert\" onclick=\"convertToInteractive('df-f601f2db-067b-47ca-84e1-90f6faa16fa5')\"\n",
              "              title=\"Convert this dataframe to an interactive table.\"\n",
              "              style=\"display:none;\">\n",
              "        \n",
              "  <svg xmlns=\"http://www.w3.org/2000/svg\" height=\"24px\"viewBox=\"0 0 24 24\"\n",
              "       width=\"24px\">\n",
              "    <path d=\"M0 0h24v24H0V0z\" fill=\"none\"/>\n",
              "    <path d=\"M18.56 5.44l.94 2.06.94-2.06 2.06-.94-2.06-.94-.94-2.06-.94 2.06-2.06.94zm-11 1L8.5 8.5l.94-2.06 2.06-.94-2.06-.94L8.5 2.5l-.94 2.06-2.06.94zm10 10l.94 2.06.94-2.06 2.06-.94-2.06-.94-.94-2.06-.94 2.06-2.06.94z\"/><path d=\"M17.41 7.96l-1.37-1.37c-.4-.4-.92-.59-1.43-.59-.52 0-1.04.2-1.43.59L10.3 9.45l-7.72 7.72c-.78.78-.78 2.05 0 2.83L4 21.41c.39.39.9.59 1.41.59.51 0 1.02-.2 1.41-.59l7.78-7.78 2.81-2.81c.8-.78.8-2.07 0-2.86zM5.41 20L4 18.59l7.72-7.72 1.47 1.35L5.41 20z\"/>\n",
              "  </svg>\n",
              "      </button>\n",
              "      \n",
              "  <style>\n",
              "    .colab-df-container {\n",
              "      display:flex;\n",
              "      flex-wrap:wrap;\n",
              "      gap: 12px;\n",
              "    }\n",
              "\n",
              "    .colab-df-convert {\n",
              "      background-color: #E8F0FE;\n",
              "      border: none;\n",
              "      border-radius: 50%;\n",
              "      cursor: pointer;\n",
              "      display: none;\n",
              "      fill: #1967D2;\n",
              "      height: 32px;\n",
              "      padding: 0 0 0 0;\n",
              "      width: 32px;\n",
              "    }\n",
              "\n",
              "    .colab-df-convert:hover {\n",
              "      background-color: #E2EBFA;\n",
              "      box-shadow: 0px 1px 2px rgba(60, 64, 67, 0.3), 0px 1px 3px 1px rgba(60, 64, 67, 0.15);\n",
              "      fill: #174EA6;\n",
              "    }\n",
              "\n",
              "    [theme=dark] .colab-df-convert {\n",
              "      background-color: #3B4455;\n",
              "      fill: #D2E3FC;\n",
              "    }\n",
              "\n",
              "    [theme=dark] .colab-df-convert:hover {\n",
              "      background-color: #434B5C;\n",
              "      box-shadow: 0px 1px 3px 1px rgba(0, 0, 0, 0.15);\n",
              "      filter: drop-shadow(0px 1px 2px rgba(0, 0, 0, 0.3));\n",
              "      fill: #FFFFFF;\n",
              "    }\n",
              "  </style>\n",
              "\n",
              "      <script>\n",
              "        const buttonEl =\n",
              "          document.querySelector('#df-f601f2db-067b-47ca-84e1-90f6faa16fa5 button.colab-df-convert');\n",
              "        buttonEl.style.display =\n",
              "          google.colab.kernel.accessAllowed ? 'block' : 'none';\n",
              "\n",
              "        async function convertToInteractive(key) {\n",
              "          const element = document.querySelector('#df-f601f2db-067b-47ca-84e1-90f6faa16fa5');\n",
              "          const dataTable =\n",
              "            await google.colab.kernel.invokeFunction('convertToInteractive',\n",
              "                                                     [key], {});\n",
              "          if (!dataTable) return;\n",
              "\n",
              "          const docLinkHtml = 'Like what you see? Visit the ' +\n",
              "            '<a target=\"_blank\" href=https://colab.research.google.com/notebooks/data_table.ipynb>data table notebook</a>'\n",
              "            + ' to learn more about interactive tables.';\n",
              "          element.innerHTML = '';\n",
              "          dataTable['output_type'] = 'display_data';\n",
              "          await google.colab.output.renderOutput(dataTable, element);\n",
              "          const docLink = document.createElement('div');\n",
              "          docLink.innerHTML = docLinkHtml;\n",
              "          element.appendChild(docLink);\n",
              "        }\n",
              "      </script>\n",
              "    </div>\n",
              "  </div>\n",
              "  "
            ]
          },
          "metadata": {},
          "execution_count": 38
        }
      ]
    },
    {
      "cell_type": "markdown",
      "source": [
        "#========= graficas sin ajuste ========="
      ],
      "metadata": {
        "id": "zNrTzegnUp3T"
      }
    },
    {
      "cell_type": "code",
      "source": [
        "plt.plot(df1['si'], df1['so'], 'bo')\n",
        "\n",
        "error = np.array([ y[1]-y[0] for y in si_vect ])\n",
        "\n",
        "plt.errorbar(df1['si'], df1['so'], yerr=error, fmt='none')\n"
      ],
      "metadata": {
        "colab": {
          "base_uri": "https://localhost:8080/",
          "height": 452
        },
        "id": "kJVy2Zz5SYBp",
        "outputId": "78c75d51-cce6-45a3-f01a-340088adbc10"
      },
      "execution_count": null,
      "outputs": [
        {
          "output_type": "execute_result",
          "data": {
            "text/plain": [
              "<ErrorbarContainer object of 3 artists>"
            ]
          },
          "metadata": {},
          "execution_count": 49
        },
        {
          "output_type": "display_data",
          "data": {
            "text/plain": [
              "<Figure size 640x480 with 1 Axes>"
            ],
            "image/png": "[encoded data removed]"
          },
          "metadata": {}
        }
      ]
    },
    {
      "cell_type": "code",
      "source": [
        "plt.plot(df1['1/si'], df1['1/so'], 'bo')\n"
      ],
      "metadata": {
        "colab": {
          "base_uri": "https://localhost:8080/",
          "height": 447
        },
        "id": "rFksZPsCSqH-",
        "outputId": "2f49de61-0046-4b6f-ae10-a011e697684b"
      },
      "execution_count": null,
      "outputs": [
        {
          "output_type": "execute_result",
          "data": {
            "text/plain": [
              "[<matplotlib.lines.Line2D at 0x7f2d12707100>]"
            ]
          },
          "metadata": {},
          "execution_count": 40
        },
        {
          "output_type": "display_data",
          "data": {
            "text/plain": [
              "<Figure size 640x480 with 1 Axes>"
            ],
            "image/png": "[encoded data removed]"
          },
          "metadata": {}
        }
      ]
    },
    {
      "cell_type": "markdown",
      "source": [
        "#========= ajuste lineal para los inversos =========\n"
      ],
      "metadata": {
        "id": "JExC9PRoUv_L"
      }
    },
    {
      "cell_type": "code",
      "source": [
        "#Realizar el ajuste lineal y mostrar los resultados\n",
        "L_slope, L_intercept, L_r_value, L_p_value, L_std_err = linregress(df1['1/si'], df1['1/so'])\n",
        "\n",
        "print('Pendiente:', L_slope)\n",
        "print('Intersección:', L_intercept)\n",
        "print('Coeficiente de correlación:', L_r_value)\n",
        "print('Valor p:', L_p_value)\n",
        "print('Error estándar:', L_std_err)"
      ],
      "metadata": {
        "colab": {
          "base_uri": "https://localhost:8080/"
        },
        "id": "GCdmsCJaSyQF",
        "outputId": "338c60ef-85d2-402b-fe25-dbae2617c28c"
      },
      "execution_count": null,
      "outputs": [
        {
          "output_type": "stream",
          "name": "stdout",
          "text": [
            "Pendiente: -0.9945914268231367\n",
            "Intersección: 0.10244172947069777\n",
            "Coeficiente de correlación: -0.9951204422041516\n",
            "Valor p: 1.5247686431159849e-18\n",
            "Error estándar: 0.023917698958350674\n"
          ]
        }
      ]
    },
    {
      "cell_type": "markdown",
      "source": [
        "##========= grafica con ajuste para los inversos"
      ],
      "metadata": {
        "id": "CkHm23IkU1pi"
      }
    },
    {
      "cell_type": "code",
      "source": [
        "error = np.array([ y[1]-y[0] for y in si_vect ])\n",
        "\n",
        "\n",
        "\n",
        "plt.plot(df1['1/si'], df1['1/so'], 'bo')\n",
        "plt.plot(df1['1/si'], L_slope*df1['1/si']+L_intercept, #y = mb + b\n",
        "            'r-', label='Ajuste lineal')\n",
        "\n",
        "#plt.errorbar(df1['1/si'], df1['1/so'], yerr=error, fmt='none')\n",
        "\n",
        "\n",
        "\n",
        "#=====\n",
        "\n",
        "plt.xlabel('1/si')\n",
        "plt.ylabel('s/so')\n",
        "plt.title('1/so vs 1/si')\n",
        "plt.show()"
      ],
      "metadata": {
        "colab": {
          "base_uri": "https://localhost:8080/",
          "height": 472
        },
        "id": "1aX0TaXYTRoQ",
        "outputId": "c8f3d652-1b50-46bb-807c-47ee0020a571"
      },
      "execution_count": null,
      "outputs": [
        {
          "output_type": "display_data",
          "data": {
            "text/plain": [
              "<Figure size 640x480 with 1 Axes>"
            ],
            "image/png": "[encoded data removed]"
          },
          "metadata": {}
        }
      ]
    },
    {
      "cell_type": "markdown",
      "source": [
        "#EJEMPLO BARRAS DE ERROR"
      ],
      "metadata": {
        "id": "tTs8KyApf7Rk"
      }
    },
    {
      "cell_type": "code",
      "source": [
        "import matplotlib.pyplot as plt\n",
        "import numpy as np\n",
        "\n",
        "x = np.array([1, 2, 3, 4, 5])\n",
        "y = np.array([3, 5, 4, 6, 7])\n",
        "error = np.array([0.5, 0.4, 0.6, 0.8, 0.7])\n",
        "\n",
        "plt.scatter(x, y)\n",
        "plt.errorbar(x, y, yerr=error, fmt='none')\n",
        "\n",
        "slope, intercept = np.polyfit(x, y, 1)s\n",
        "plt.plot(x, slope*x + intercept, color='red')\n",
        "\n",
        "plt.xlabel('Eje X')\n",
        "plt.ylabel('Eje Y')\n",
        "plt.title('Gráfica con puntos y barras de error')\n",
        "\n",
        "plt.show()\n"
      ],
      "metadata": {
        "colab": {
          "base_uri": "https://localhost:8080/",
          "height": 472
        },
        "id": "LVC-K955a4tE",
        "outputId": "7570f3b2-4ea1-4392-f966-b213d3f0700b"
      },
      "execution_count": null,
      "outputs": [
        {
          "output_type": "display_data",
          "data": {
            "text/plain": [
              "<Figure size 640x480 with 1 Axes>"
            ],
            "image/png": "[encoded data removed]"
          },
          "metadata": {}
        }
      ]
    },
    {
      "cell_type": "code",
      "source": [],
      "metadata": {
        "id": "D0P5JXwGf3jW"
      },
      "execution_count": null,
      "outputs": []
    }
  ]
}