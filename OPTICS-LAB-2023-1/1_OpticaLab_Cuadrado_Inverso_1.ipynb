{
  "cells": [
    {
      "cell_type": "code",
      "execution_count": null,
      "metadata": {
        "id": "GOqTo8zEjmMf"
      },
      "outputs": [],
      "source": [
        "import pandas as pd\n",
        "import numpy as np\n",
        "import matplotlib.pyplot as plt\n",
        "from scipy.optimize import curve_fit\n",
        "from sklearn.metrics import r2_score\n",
        "from scipy.stats import linregress\n"
      ]
    },
    {
      "cell_type": "markdown",
      "source": [
        "## Datos"
      ],
      "metadata": {
        "id": "qu7-7SVqm4O8"
      }
    },
    {
      "cell_type": "code",
      "execution_count": null,
      "metadata": {
        "id": "rp0nxT4IjmMl"
      },
      "outputs": [],
      "source": [
        "r = [40, 42.5, 45, 47.5, 50, 52.5, 55, 57.5, 60, 62.5, 65, 67.5, 70, 72.5, 75, 77.5, 80, 82.5, 85, 87.5, 90, 92.5, 95, 97.5, 100]\n",
        "I = [4.09, 3.28, 2.96, 2.1, 1.857, 1.694, 1.548, 1.41, 1.277, 1.148, 1.071, 1.008, 0.933, 0.862, 0.805, 0.752, 0.712, 0.69, 0.653, 0.63, 0.565, 0.549, 0.508, 0.457, 0.433]"
      ]
    },
    {
      "cell_type": "markdown",
      "source": [
        "Creamos una tabla con los datos"
      ],
      "metadata": {
        "id": "RRmhUqXYm8h7"
      }
    },
    {
      "cell_type": "code",
      "execution_count": null,
      "metadata": {
        "id": "k56b5u5_jmMm"
      },
      "outputs": [],
      "source": [
        "data = pd.DataFrame({'distancia':r , 'intensidad' : I})\n",
        "\n",
        "# INVERSO\n",
        "data['invDistancia2'] = 1 / data['distancia']**2\n",
        "\n",
        "#LOGARITMOS\n",
        "data['lnDist'] = np.log(data['distancia'])\n",
        "data['lnInt'] =  np.log(data['intensidad'])"
      ]
    },
    {
      "cell_type": "code",
      "execution_count": null,
      "metadata": {
        "colab": {
          "base_uri": "https://localhost:8080/",
          "height": 833
        },
        "id": "9SDqyRtojmMn",
        "outputId": "f9a130a0-f839-4df4-a353-e8b237de756c"
      },
      "outputs": [
        {
          "output_type": "execute_result",
          "data": {
            "text/plain": [
              "    distancia  intensidad  invDistancia2    lnDist     lnInt\n",
              "0        40.0       4.090       0.000625  3.688879  1.408545\n",
              "1        42.5       3.280       0.000554  3.749504  1.187843\n",
              "2        45.0       2.960       0.000494  3.806662  1.085189\n",
              "3        47.5       2.100       0.000443  3.860730  0.741937\n",
              "4        50.0       1.857       0.000400  3.912023  0.618962\n",
              "5        52.5       1.694       0.000363  3.960813  0.527093\n",
              "6        55.0       1.548       0.000331  4.007333  0.436964\n",
              "7        57.5       1.410       0.000302  4.051785  0.343590\n",
              "8        60.0       1.277       0.000278  4.094345  0.244514\n",
              "9        62.5       1.148       0.000256  4.135167  0.138021\n",
              "10       65.0       1.071       0.000237  4.174387  0.068593\n",
              "11       67.5       1.008       0.000219  4.212128  0.007968\n",
              "12       70.0       0.933       0.000204  4.248495 -0.069350\n",
              "13       72.5       0.862       0.000190  4.283587 -0.148500\n",
              "14       75.0       0.805       0.000178  4.317488 -0.216913\n",
              "15       77.5       0.752       0.000166  4.350278 -0.285019\n",
              "16       80.0       0.712       0.000156  4.382027 -0.339677\n",
              "17       82.5       0.690       0.000147  4.412798 -0.371064\n",
              "18       85.0       0.653       0.000138  4.442651 -0.426178\n",
              "19       87.5       0.630       0.000131  4.471639 -0.462035\n",
              "20       90.0       0.565       0.000123  4.499810 -0.570930\n",
              "21       92.5       0.549       0.000117  4.527209 -0.599657\n",
              "22       95.0       0.508       0.000111  4.553877 -0.677274\n",
              "23       97.5       0.457       0.000105  4.579852 -0.783072\n",
              "24      100.0       0.433       0.000100  4.605170 -0.837018"
            ],
            "text/html": [
              "\n",
              "  <div id=\"df-dc93a300-f2e5-47bb-b8b7-8d53a503690a\">\n",
              "    <div class=\"colab-df-container\">\n",
              "      <div>\n",
              "<style scoped>\n",
              "    .dataframe tbody tr th:only-of-type {\n",
              "        vertical-align: middle;\n",
              "    }\n",
              "\n",
              "    .dataframe tbody tr th {\n",
              "        vertical-align: top;\n",
              "    }\n",
              "\n",
              "    .dataframe thead th {\n",
              "        text-align: right;\n",
              "    }\n",
              "</style>\n",
              "<table border=\"1\" class=\"dataframe\">\n",
              "  <thead>\n",
              "    <tr style=\"text-align: right;\">\n",
              "      <th></th>\n",
              "      <th>distancia</th>\n",
              "      <th>intensidad</th>\n",
              "      <th>invDistancia2</th>\n",
              "      <th>lnDist</th>\n",
              "      <th>lnInt</th>\n",
              "    </tr>\n",
              "  </thead>\n",
              "  <tbody>\n",
              "    <tr>\n",
              "      <th>0</th>\n",
              "      <td>40.0</td>\n",
              "      <td>4.090</td>\n",
              "      <td>0.000625</td>\n",
              "      <td>3.688879</td>\n",
              "      <td>1.408545</td>\n",
              "    </tr>\n",
              "    <tr>\n",
              "      <th>1</th>\n",
              "      <td>42.5</td>\n",
              "      <td>3.280</td>\n",
              "      <td>0.000554</td>\n",
              "      <td>3.749504</td>\n",
              "      <td>1.187843</td>\n",
              "    </tr>\n",
              "    <tr>\n",
              "      <th>2</th>\n",
              "      <td>45.0</td>\n",
              "      <td>2.960</td>\n",
              "      <td>0.000494</td>\n",
              "      <td>3.806662</td>\n",
              "      <td>1.085189</td>\n",
              "    </tr>\n",
              "    <tr>\n",
              "      <th>3</th>\n",
              "      <td>47.5</td>\n",
              "      <td>2.100</td>\n",
              "      <td>0.000443</td>\n",
              "      <td>3.860730</td>\n",
              "      <td>0.741937</td>\n",
              "    </tr>\n",
              "    <tr>\n",
              "      <th>4</th>\n",
              "      <td>50.0</td>\n",
              "      <td>1.857</td>\n",
              "      <td>0.000400</td>\n",
              "      <td>3.912023</td>\n",
              "      <td>0.618962</td>\n",
              "    </tr>\n",
              "    <tr>\n",
              "      <th>5</th>\n",
              "      <td>52.5</td>\n",
              "      <td>1.694</td>\n",
              "      <td>0.000363</td>\n",
              "      <td>3.960813</td>\n",
              "      <td>0.527093</td>\n",
              "    </tr>\n",
              "    <tr>\n",
              "      <th>6</th>\n",
              "      <td>55.0</td>\n",
              "      <td>1.548</td>\n",
              "      <td>0.000331</td>\n",
              "      <td>4.007333</td>\n",
              "      <td>0.436964</td>\n",
              "    </tr>\n",
              "    <tr>\n",
              "      <th>7</th>\n",
              "      <td>57.5</td>\n",
              "      <td>1.410</td>\n",
              "      <td>0.000302</td>\n",
              "      <td>4.051785</td>\n",
              "      <td>0.343590</td>\n",
              "    </tr>\n",
              "    <tr>\n",
              "      <th>8</th>\n",
              "      <td>60.0</td>\n",
              "      <td>1.277</td>\n",
              "      <td>0.000278</td>\n",
              "      <td>4.094345</td>\n",
              "      <td>0.244514</td>\n",
              "    </tr>\n",
              "    <tr>\n",
              "      <th>9</th>\n",
              "      <td>62.5</td>\n",
              "      <td>1.148</td>\n",
              "      <td>0.000256</td>\n",
              "      <td>4.135167</td>\n",
              "      <td>0.138021</td>\n",
              "    </tr>\n",
              "    <tr>\n",
              "      <th>10</th>\n",
              "      <td>65.0</td>\n",
              "      <td>1.071</td>\n",
              "      <td>0.000237</td>\n",
              "      <td>4.174387</td>\n",
              "      <td>0.068593</td>\n",
              "    </tr>\n",
              "    <tr>\n",
              "      <th>11</th>\n",
              "      <td>67.5</td>\n",
              "      <td>1.008</td>\n",
              "      <td>0.000219</td>\n",
              "      <td>4.212128</td>\n",
              "      <td>0.007968</td>\n",
              "    </tr>\n",
              "    <tr>\n",
              "      <th>12</th>\n",
              "      <td>70.0</td>\n",
              "      <td>0.933</td>\n",
              "      <td>0.000204</td>\n",
              "      <td>4.248495</td>\n",
              "      <td>-0.069350</td>\n",
              "    </tr>\n",
              "    <tr>\n",
              "      <th>13</th>\n",
              "      <td>72.5</td>\n",
              "      <td>0.862</td>\n",
              "      <td>0.000190</td>\n",
              "      <td>4.283587</td>\n",
              "      <td>-0.148500</td>\n",
              "    </tr>\n",
              "    <tr>\n",
              "      <th>14</th>\n",
              "      <td>75.0</td>\n",
              "      <td>0.805</td>\n",
              "      <td>0.000178</td>\n",
              "      <td>4.317488</td>\n",
              "      <td>-0.216913</td>\n",
              "    </tr>\n",
              "    <tr>\n",
              "      <th>15</th>\n",
              "      <td>77.5</td>\n",
              "      <td>0.752</td>\n",
              "      <td>0.000166</td>\n",
              "      <td>4.350278</td>\n",
              "      <td>-0.285019</td>\n",
              "    </tr>\n",
              "    <tr>\n",
              "      <th>16</th>\n",
              "      <td>80.0</td>\n",
              "      <td>0.712</td>\n",
              "      <td>0.000156</td>\n",
              "      <td>4.382027</td>\n",
              "      <td>-0.339677</td>\n",
              "    </tr>\n",
              "    <tr>\n",
              "      <th>17</th>\n",
              "      <td>82.5</td>\n",
              "      <td>0.690</td>\n",
              "      <td>0.000147</td>\n",
              "      <td>4.412798</td>\n",
              "      <td>-0.371064</td>\n",
              "    </tr>\n",
              "    <tr>\n",
              "      <th>18</th>\n",
              "      <td>85.0</td>\n",
              "      <td>0.653</td>\n",
              "      <td>0.000138</td>\n",
              "      <td>4.442651</td>\n",
              "      <td>-0.426178</td>\n",
              "    </tr>\n",
              "    <tr>\n",
              "      <th>19</th>\n",
              "      <td>87.5</td>\n",
              "      <td>0.630</td>\n",
              "      <td>0.000131</td>\n",
              "      <td>4.471639</td>\n",
              "      <td>-0.462035</td>\n",
              "    </tr>\n",
              "    <tr>\n",
              "      <th>20</th>\n",
              "      <td>90.0</td>\n",
              "      <td>0.565</td>\n",
              "      <td>0.000123</td>\n",
              "      <td>4.499810</td>\n",
              "      <td>-0.570930</td>\n",
              "    </tr>\n",
              "    <tr>\n",
              "      <th>21</th>\n",
              "      <td>92.5</td>\n",
              "      <td>0.549</td>\n",
              "      <td>0.000117</td>\n",
              "      <td>4.527209</td>\n",
              "      <td>-0.599657</td>\n",
              "    </tr>\n",
              "    <tr>\n",
              "      <th>22</th>\n",
              "      <td>95.0</td>\n",
              "      <td>0.508</td>\n",
              "      <td>0.000111</td>\n",
              "      <td>4.553877</td>\n",
              "      <td>-0.677274</td>\n",
              "    </tr>\n",
              "    <tr>\n",
              "      <th>23</th>\n",
              "      <td>97.5</td>\n",
              "      <td>0.457</td>\n",
              "      <td>0.000105</td>\n",
              "      <td>4.579852</td>\n",
              "      <td>-0.783072</td>\n",
              "    </tr>\n",
              "    <tr>\n",
              "      <th>24</th>\n",
              "      <td>100.0</td>\n",
              "      <td>0.433</td>\n",
              "      <td>0.000100</td>\n",
              "      <td>4.605170</td>\n",
              "      <td>-0.837018</td>\n",
              "    </tr>\n",
              "  </tbody>\n",
              "</table>\n",
              "</div>\n",
              "      <button class=\"colab-df-convert\" onclick=\"convertToInteractive('df-dc93a300-f2e5-47bb-b8b7-8d53a503690a')\"\n",
              "              title=\"Convert this dataframe to an interactive table.\"\n",
              "              style=\"display:none;\">\n",
              "        \n",
              "  <svg xmlns=\"http://www.w3.org/2000/svg\" height=\"24px\"viewBox=\"0 0 24 24\"\n",
              "       width=\"24px\">\n",
              "    <path d=\"M0 0h24v24H0V0z\" fill=\"none\"/>\n",
              "    <path d=\"M18.56 5.44l.94 2.06.94-2.06 2.06-.94-2.06-.94-.94-2.06-.94 2.06-2.06.94zm-11 1L8.5 8.5l.94-2.06 2.06-.94-2.06-.94L8.5 2.5l-.94 2.06-2.06.94zm10 10l.94 2.06.94-2.06 2.06-.94-2.06-.94-.94-2.06-.94 2.06-2.06.94z\"/><path d=\"M17.41 7.96l-1.37-1.37c-.4-.4-.92-.59-1.43-.59-.52 0-1.04.2-1.43.59L10.3 9.45l-7.72 7.72c-.78.78-.78 2.05 0 2.83L4 21.41c.39.39.9.59 1.41.59.51 0 1.02-.2 1.41-.59l7.78-7.78 2.81-2.81c.8-.78.8-2.07 0-2.86zM5.41 20L4 18.59l7.72-7.72 1.47 1.35L5.41 20z\"/>\n",
              "  </svg>\n",
              "      </button>\n",
              "      \n",
              "  <style>\n",
              "    .colab-df-container {\n",
              "      display:flex;\n",
              "      flex-wrap:wrap;\n",
              "      gap: 12px;\n",
              "    }\n",
              "\n",
              "    .colab-df-convert {\n",
              "      background-color: #E8F0FE;\n",
              "      border: none;\n",
              "      border-radius: 50%;\n",
              "      cursor: pointer;\n",
              "      display: none;\n",
              "      fill: #1967D2;\n",
              "      height: 32px;\n",
              "      padding: 0 0 0 0;\n",
              "      width: 32px;\n",
              "    }\n",
              "\n",
              "    .colab-df-convert:hover {\n",
              "      background-color: #E2EBFA;\n",
              "      box-shadow: 0px 1px 2px rgba(60, 64, 67, 0.3), 0px 1px 3px 1px rgba(60, 64, 67, 0.15);\n",
              "      fill: #174EA6;\n",
              "    }\n",
              "\n",
              "    [theme=dark] .colab-df-convert {\n",
              "      background-color: #3B4455;\n",
              "      fill: #D2E3FC;\n",
              "    }\n",
              "\n",
              "    [theme=dark] .colab-df-convert:hover {\n",
              "      background-color: #434B5C;\n",
              "      box-shadow: 0px 1px 3px 1px rgba(0, 0, 0, 0.15);\n",
              "      filter: drop-shadow(0px 1px 2px rgba(0, 0, 0, 0.3));\n",
              "      fill: #FFFFFF;\n",
              "    }\n",
              "  </style>\n",
              "\n",
              "      <script>\n",
              "        const buttonEl =\n",
              "          document.querySelector('#df-dc93a300-f2e5-47bb-b8b7-8d53a503690a button.colab-df-convert');\n",
              "        buttonEl.style.display =\n",
              "          google.colab.kernel.accessAllowed ? 'block' : 'none';\n",
              "\n",
              "        async function convertToInteractive(key) {\n",
              "          const element = document.querySelector('#df-dc93a300-f2e5-47bb-b8b7-8d53a503690a');\n",
              "          const dataTable =\n",
              "            await google.colab.kernel.invokeFunction('convertToInteractive',\n",
              "                                                     [key], {});\n",
              "          if (!dataTable) return;\n",
              "\n",
              "          const docLinkHtml = 'Like what you see? Visit the ' +\n",
              "            '<a target=\"_blank\" href=https://colab.research.google.com/notebooks/data_table.ipynb>data table notebook</a>'\n",
              "            + ' to learn more about interactive tables.';\n",
              "          element.innerHTML = '';\n",
              "          dataTable['output_type'] = 'display_data';\n",
              "          await google.colab.output.renderOutput(dataTable, element);\n",
              "          const docLink = document.createElement('div');\n",
              "          docLink.innerHTML = docLinkHtml;\n",
              "          element.appendChild(docLink);\n",
              "        }\n",
              "      </script>\n",
              "    </div>\n",
              "  </div>\n",
              "  "
            ]
          },
          "metadata": {},
          "execution_count": 32
        }
      ],
      "source": [
        "data"
      ]
    },
    {
      "cell_type": "code",
      "execution_count": null,
      "metadata": {
        "colab": {
          "base_uri": "https://localhost:8080/",
          "height": 851
        },
        "id": "ayP-GaKjjmMn",
        "outputId": "01e2f0bf-886d-472f-e001-a74963a46762"
      },
      "outputs": [
        {
          "output_type": "display_data",
          "data": {
            "text/plain": [
              "<Figure size 432x288 with 1 Axes>"
            ],
            "image/png": "[encoded data removed]"
          },
          "metadata": {
            "needs_background": "light"
          }
        },
        {
          "output_type": "display_data",
          "data": {
            "text/plain": [
              "<Figure size 432x288 with 1 Axes>"
            ],
            "image/png": "[encoded data removed]"
          },
          "metadata": {
            "needs_background": "light"
          }
        },
        {
          "output_type": "display_data",
          "data": {
            "text/plain": [
              "<Figure size 432x288 with 1 Axes>"
            ],
            "image/png": "[encoded data removed]"
          },
          "metadata": {
            "needs_background": "light"
          }
        }
      ],
      "source": [
        "# Graficar los datos\n",
        "\n",
        "#DISTANCIA\n",
        "plt.plot(data['distancia'], data['intensidad'], 'bo')\n",
        "plt.xlabel('Distancia')\n",
        "plt.ylabel('Intensidad')\n",
        "plt.title('Intensidad vs Distancia')\n",
        "plt.show()\n",
        "\n",
        "#1 / DISTANCIA^2\n",
        "plt.plot(data['invDistancia2'], data['intensidad'], 'bo')\n",
        "plt.xlabel('1/distancia^2')\n",
        "plt.ylabel('Intensidad')\n",
        "plt.title('Intensidad vs 1/distancia^2')\n",
        "plt.show()\n",
        "\n",
        "#LOGARITMOS\n",
        "plt.plot(data['lnDist'], data['lnInt'], 'bo')\n",
        "plt.xlabel('ln(distancia)')\n",
        "plt.ylabel('ln(Intensidad)')\n",
        "plt.title('ln(Intensidad) vs ln(distancia)')\n",
        "plt.show()"
      ]
    },
    {
      "cell_type": "markdown",
      "source": [
        "## Funcion de ajuste"
      ],
      "metadata": {
        "id": "pLMo5egknDVM"
      }
    },
    {
      "cell_type": "code",
      "execution_count": null,
      "metadata": {
        "id": "mJdvBug6jmMo"
      },
      "outputs": [],
      "source": [
        "# AJUSTE1: y=a*x^n\n",
        "def func(x, a, n):\n",
        "    return a * x**n\n",
        "\n",
        "# AJUSTE2: DEL INVERSO (LINEAL)\n",
        "slopeI, interceptI, r_valueI, p_valueI, std_errI = linregress(data['invDistancia2'], data['intensidad'])\n",
        "\n",
        "#AJUSTE3: LOGARITMOS\n",
        "def funcln(x, m, b): \n",
        "  return m*x + b\n",
        "\n",
        "#AJUSTE LINEAL PARA LOS LOGRARITMOS===================\n",
        "slope, intercept, r_value, p_value, std_err = linregress(data['lnDist'], data['lnInt'])\n"
      ]
    },
    {
      "cell_type": "code",
      "execution_count": null,
      "metadata": {
        "id": "GmDk2D2qjmMp"
      },
      "outputs": [],
      "source": [
        "# AJUSTE1: Realizar el ajuste y obtener los parámetros a y n\n",
        "popt, pcov = curve_fit(func, r, I)\n",
        "a, n = popt\n",
        "\n",
        "#AJUSTE2: \n",
        "\n",
        "\n",
        "#AJUSTE3: \n",
        "poptln, pcovln = curve_fit(funcln, data['lnDist'], data['lnInt'])\n",
        "m, b = poptln\n"
      ]
    },
    {
      "cell_type": "code",
      "execution_count": null,
      "metadata": {
        "id": "lc2Cf9SrjmMr"
      },
      "outputs": [],
      "source": [
        "# Coeficiente de determinación (R^2)\n",
        "r2 = r2_score(I, func(r, *popt))\n",
        "\n",
        "# Coeficiente de determinación (R^2)\n",
        "#r2ln = r2_score(data['lnInt'], func(data['lnDist'], *poptln))"
      ]
    },
    {
      "cell_type": "markdown",
      "source": [
        "# RESULTADOS"
      ],
      "metadata": {
        "id": "ryyDj6VdolF8"
      }
    },
    {
      "cell_type": "code",
      "execution_count": null,
      "metadata": {
        "colab": {
          "base_uri": "https://localhost:8080/"
        },
        "id": "V_dvvxv-jmMs",
        "outputId": "22246ed6-f042-410b-a2d3-7687c1d0cfc9"
      },
      "outputs": [
        {
          "output_type": "stream",
          "name": "stdout",
          "text": [
            "NORMAAAAAALL\n",
            "a= 55903.79951105112\n",
            "n= -2.600510007382431\n",
            "R^2: 0.9783796647303611\n",
            "===========\n",
            "INVERSOOOOOO\n",
            "Pendiente: 6200.468262272734\n",
            "Intersección: -0.2998492918114213\n",
            "Coeficiente de correlación: 0.9803465684052479\n",
            "Valor p: 1.0264594169946058e-17\n",
            "Error estándar: 260.1780975096029\n",
            "===========\n",
            "LOGARITMOOOOOOOOS\n",
            "m= -2.2484676003598723\n",
            "b= 9.514022387610584\n",
            "R^2: -0.9929714176816198\n",
            "==\n",
            "Pendiente: -2.2484675996697057\n",
            "Intersección: 9.514022384702812\n",
            "Coeficiente de correlación: -0.9929714176816198\n",
            "Valor p: 7.987577361413439e-23\n",
            "Error estándar: 0.05588179799334075\n"
          ]
        }
      ],
      "source": [
        "# Mostrar resultados\n",
        "\n",
        "print('NORMAAAAAALL')\n",
        "print('a=', a)\n",
        "print('n=', n)\n",
        "print(\"R^2:\", r2)\n",
        "\n",
        "print('===========')\n",
        "\n",
        "#Mostrar resultados\n",
        "\n",
        "print('INVERSOOOOOO')\n",
        "print('Pendiente:', slopeI)\n",
        "print('Intersección:', interceptI)\n",
        "print('Coeficiente de correlación:', r_valueI)\n",
        "print('Valor p:', p_valueI)\n",
        "print('Error estándar:', std_errI)\n",
        "\n",
        "\n",
        "print('===========')\n",
        "\n",
        "# Mostrar resultados\n",
        "\n",
        "print('LOGARITMOOOOOOOOS')\n",
        "print('m=', m)\n",
        "print('b=', b)\n",
        "#print(\"R^2:\", r2ln) # ESTA MAL\n",
        "print(\"R^2:\", r_value)\n",
        "\n",
        "\n",
        "print('==')\n",
        "\n",
        "#RESULTADOOOOS LOGARITMO LINEAL\n",
        "print('Pendiente:', slope)\n",
        "print('Intersección:', intercept)\n",
        "print('Coeficiente de correlación:', r_value)\n",
        "print('Valor p:', p_value)\n",
        "print('Error estándar:', std_err)"
      ]
    },
    {
      "cell_type": "markdown",
      "source": [
        "# GRAFICAS"
      ],
      "metadata": {
        "id": "oJIBVzmqooUo"
      }
    },
    {
      "cell_type": "code",
      "execution_count": null,
      "metadata": {
        "colab": {
          "base_uri": "https://localhost:8080/",
          "height": 851
        },
        "id": "JdnBG0mmjmMt",
        "outputId": "98bb5b51-3e00-420d-fb6b-483575765138"
      },
      "outputs": [
        {
          "output_type": "display_data",
          "data": {
            "text/plain": [
              "<Figure size 432x288 with 1 Axes>"
            ],
            "image/png": "[encoded data removed]"
          },
          "metadata": {
            "needs_background": "light"
          }
        },
        {
          "output_type": "display_data",
          "data": {
            "text/plain": [
              "<Figure size 432x288 with 1 Axes>"
            ],
            "image/png": "[encoded data removed]"
          },
          "metadata": {
            "needs_background": "light"
          }
        },
        {
          "output_type": "display_data",
          "data": {
            "text/plain": [
              "<Figure size 432x288 with 1 Axes>"
            ],
            "image/png": "[encoded data removed]"
          },
          "metadata": {
            "needs_background": "light"
          }
        }
      ],
      "source": [
        "# INTENSIDAD VS DISTANCIA\n",
        "plt.plot(data['distancia'], data['intensidad'], 'bo', label='Datos')\n",
        "\n",
        "r_fit = np.linspace(min(r), max(r), 100)\n",
        "plt.plot(r_fit, func(r_fit, a, n), 'r-', label='Ajuste')\n",
        "\n",
        "plt.xlabel('Distancia')\n",
        "plt.ylabel('Intensidad')\n",
        "plt.title('Intensidad vs Distancia con ajuste del tipo y=a*x^n')\n",
        "plt.show()\n",
        "\n",
        "# INTENSIDAD VS 1/DISTANCIA^2\n",
        "plt.plot(data['invDistancia2'], data['intensidad'], 'bo')\n",
        "plt.plot(data['invDistancia2'], slopeI*data['invDistancia2']+interceptI, 'r-', label='Ajuste lineal')\n",
        "plt.xlabel('1/distancia^2')\n",
        "plt.ylabel('Intensidad')\n",
        "plt.title('Intensidad vs 1/distancia^2')\n",
        "plt.show()\n",
        "\n",
        "# LOG(INTENSIDAD) VS LOG(DISTANCIA)\n",
        "plt.plot(data['lnDist'], data['lnInt'], 'bo')\n",
        "plt.plot(data['lnDist'], slope*data['lnDist']+intercept, 'r-', label='Ajuste lineal')\n",
        "plt.xlabel('lnDistancia')\n",
        "plt.ylabel('lnIntensidad')\n",
        "plt.title('lnIntensidad vs lnDistancia')\n",
        "plt.show()"
      ]
    },
    {
      "cell_type": "code",
      "source": [],
      "metadata": {
        "id": "7PPM4e2RuT8W"
      },
      "execution_count": null,
      "outputs": []
    }
  ],
  "metadata": {
    "kernelspec": {
      "display_name": "Python 3",
      "language": "python",
      "name": "python3"
    },
    "language_info": {
      "codemirror_mode": {
        "name": "ipython",
        "version": 3
      },
      "file_extension": ".py",
      "mimetype": "text/x-python",
      "name": "python",
      "nbconvert_exporter": "python",
      "pygments_lexer": "ipython3",
      "version": "3.11.0"
    },
    "orig_nbformat": 4,
    "vscode": {
      "interpreter": {
        "hash": "5238573367df39f7286bb46f9ff5f08f63a01a80960060ce41e3c79b190280fa"
      }
    },
    "colab": {
      "provenance": []
    }
  },
  "nbformat": 4,
  "nbformat_minor": 0
}