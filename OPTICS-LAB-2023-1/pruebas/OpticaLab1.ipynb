{
  "cells": [
    {
      "cell_type": "code",
      "execution_count": 1,
      "metadata": {
        "id": "dytfNf46z2tZ"
      },
      "outputs": [],
      "source": [
        "import pandas as pd\n",
        "import numpy as np\n",
        "import matplotlib.pyplot as plt\n",
        "from scipy.stats import linregress\n"
      ]
    },
    {
      "cell_type": "code",
      "execution_count": 2,
      "metadata": {
        "id": "MaruX66jz7Hv"
      },
      "outputs": [],
      "source": [
        "# Definir los datos\n",
        "distancia = [15, 20, 25, 30, 35, 40, 45, 50, 55, 60]\n",
        "lado = [3, 3.9, 4.6, 5.5, 6.4, 7.2, 8.2, 9, 10, 10.9]\n"
      ]
    },
    {
      "cell_type": "code",
      "execution_count": 3,
      "metadata": {
        "colab": {
          "base_uri": "https://localhost:8080/"
        },
        "id": "gXPPhqI0z8zO",
        "outputId": "6919f4c2-94cb-48e3-9def-a655928a21ea"
      },
      "outputs": [
        {
          "name": "stdout",
          "output_type": "stream",
          "text": [
            "Pendiente: 0.1753939393939394\n",
            "Intersección: 0.29272727272727206\n",
            "Coeficiente de correlación: 0.999588564167049\n",
            "Valor p: 1.253060589687543e-13\n",
            "Error estándar: 0.0017793840310186034\n"
          ]
        }
      ],
      "source": [
        "# Crear un dataframe de Pandas con los datos\n",
        "df = pd.DataFrame({'distancia': distancia, 'lado': lado})\n",
        "\n",
        "# Realizar el ajuste lineal y mostrar los resultados\n",
        "slope, intercept, r_value, p_value, std_err = linregress(df['distancia'], df['lado'])\n",
        "print('Pendiente:', slope)\n",
        "print('Intersección:', intercept)\n",
        "print('Coeficiente de correlación:', r_value)\n",
        "print('Valor p:', p_value)\n",
        "print('Error estándar:', std_err)"
      ]
    },
    {
      "cell_type": "code",
      "execution_count": null,
      "metadata": {
        "colab": {
          "base_uri": "https://localhost:8080/",
          "height": 295
        },
        "id": "HPZznJZ60AcJ",
        "outputId": "e1d21cbb-17ed-4408-afb4-b75af0e66f6b"
      },
      "outputs": [
        {
          "data": {
            "image/png": "[encoded data removed]",
            "text/plain": [
              "<Figure size 432x288 with 1 Axes>"
            ]
          },
          "metadata": {
            "needs_background": "light"
          },
          "output_type": "display_data"
        }
      ],
      "source": [
        "# Graficar los datos con el ajuste lineal\n",
        "plt.plot(df['distancia'], df['lado'], 'bo', label='Datos')\n",
        "plt.plot(df['distancia'], slope*df['distancia']+intercept, 'r-', label='Ajuste lineal')\n",
        "plt.xlabel('Distancia')\n",
        "plt.ylabel('Lado')\n",
        "plt.title('Lado vs Distancia con Ajuste Lineal')\n",
        "plt.legend()\n",
        "plt.show()"
      ]
    }
  ],
  "metadata": {
    "colab": {
      "provenance": []
    },
    "kernelspec": {
      "display_name": "Python 3",
      "language": "python",
      "name": "python3"
    },
    "language_info": {
      "codemirror_mode": {
        "name": "ipython",
        "version": 3
      },
      "file_extension": ".py",
      "mimetype": "text/x-python",
      "name": "python",
      "nbconvert_exporter": "python",
      "pygments_lexer": "ipython3",
      "version": "3.11.0 (main, Oct 24 2022, 18:26:48) [MSC v.1933 64 bit (AMD64)]"
    },
    "vscode": {
      "interpreter": {
        "hash": "5238573367df39f7286bb46f9ff5f08f63a01a80960060ce41e3c79b190280fa"
      }
    }
  },
  "nbformat": 4,
  "nbformat_minor": 0
}
