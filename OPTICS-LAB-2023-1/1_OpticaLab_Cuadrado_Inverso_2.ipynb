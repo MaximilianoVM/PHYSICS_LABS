{
  "cells": [
    {
      "cell_type": "code",
      "execution_count": null,
      "metadata": {
        "id": "dytfNf46z2tZ"
      },
      "outputs": [],
      "source": [
        "import pandas as pd\n",
        "import numpy as np\n",
        "import matplotlib.pyplot as plt\n",
        "from scipy.stats import linregress\n",
        "from sklearn.metrics import r2_score"
      ]
    },
    {
      "cell_type": "code",
      "execution_count": null,
      "metadata": {
        "id": "MaruX66jz7Hv"
      },
      "outputs": [],
      "source": [
        "# Definir los datos\n",
        "distancia = [15, 20, 25, 30, 35, 40, 45, 50, 55, 60]\n",
        "lado = [3, 3.9, 4.6, 5.5, 6.4, 7.2, 8.2, 9, 10, 10.9]\n"
      ]
    },
    {
      "cell_type": "code",
      "execution_count": null,
      "metadata": {
        "colab": {
          "base_uri": "https://localhost:8080/",
          "height": 363
        },
        "id": "gXPPhqI0z8zO",
        "outputId": "7acef2d9-b55d-4eb2-bf90-afd39e2d4624"
      },
      "outputs": [
        {
          "output_type": "execute_result",
          "data": {
            "text/plain": [
              "   distancia  lado    area\n",
              "0         15   3.0    9.00\n",
              "1         20   3.9   15.21\n",
              "2         25   4.6   21.16\n",
              "3         30   5.5   30.25\n",
              "4         35   6.4   40.96\n",
              "5         40   7.2   51.84\n",
              "6         45   8.2   67.24\n",
              "7         50   9.0   81.00\n",
              "8         55  10.0  100.00\n",
              "9         60  10.9  118.81"
            ],
            "text/html": [
              "\n",
              "  <div id=\"df-e21ae584-0a2a-4a0f-b3cb-8118ca641661\">\n",
              "    <div class=\"colab-df-container\">\n",
              "      <div>\n",
              "<style scoped>\n",
              "    .dataframe tbody tr th:only-of-type {\n",
              "        vertical-align: middle;\n",
              "    }\n",
              "\n",
              "    .dataframe tbody tr th {\n",
              "        vertical-align: top;\n",
              "    }\n",
              "\n",
              "    .dataframe thead th {\n",
              "        text-align: right;\n",
              "    }\n",
              "</style>\n",
              "<table border=\"1\" class=\"dataframe\">\n",
              "  <thead>\n",
              "    <tr style=\"text-align: right;\">\n",
              "      <th></th>\n",
              "      <th>distancia</th>\n",
              "      <th>lado</th>\n",
              "      <th>area</th>\n",
              "    </tr>\n",
              "  </thead>\n",
              "  <tbody>\n",
              "    <tr>\n",
              "      <th>0</th>\n",
              "      <td>15</td>\n",
              "      <td>3.0</td>\n",
              "      <td>9.00</td>\n",
              "    </tr>\n",
              "    <tr>\n",
              "      <th>1</th>\n",
              "      <td>20</td>\n",
              "      <td>3.9</td>\n",
              "      <td>15.21</td>\n",
              "    </tr>\n",
              "    <tr>\n",
              "      <th>2</th>\n",
              "      <td>25</td>\n",
              "      <td>4.6</td>\n",
              "      <td>21.16</td>\n",
              "    </tr>\n",
              "    <tr>\n",
              "      <th>3</th>\n",
              "      <td>30</td>\n",
              "      <td>5.5</td>\n",
              "      <td>30.25</td>\n",
              "    </tr>\n",
              "    <tr>\n",
              "      <th>4</th>\n",
              "      <td>35</td>\n",
              "      <td>6.4</td>\n",
              "      <td>40.96</td>\n",
              "    </tr>\n",
              "    <tr>\n",
              "      <th>5</th>\n",
              "      <td>40</td>\n",
              "      <td>7.2</td>\n",
              "      <td>51.84</td>\n",
              "    </tr>\n",
              "    <tr>\n",
              "      <th>6</th>\n",
              "      <td>45</td>\n",
              "      <td>8.2</td>\n",
              "      <td>67.24</td>\n",
              "    </tr>\n",
              "    <tr>\n",
              "      <th>7</th>\n",
              "      <td>50</td>\n",
              "      <td>9.0</td>\n",
              "      <td>81.00</td>\n",
              "    </tr>\n",
              "    <tr>\n",
              "      <th>8</th>\n",
              "      <td>55</td>\n",
              "      <td>10.0</td>\n",
              "      <td>100.00</td>\n",
              "    </tr>\n",
              "    <tr>\n",
              "      <th>9</th>\n",
              "      <td>60</td>\n",
              "      <td>10.9</td>\n",
              "      <td>118.81</td>\n",
              "    </tr>\n",
              "  </tbody>\n",
              "</table>\n",
              "</div>\n",
              "      <button class=\"colab-df-convert\" onclick=\"convertToInteractive('df-e21ae584-0a2a-4a0f-b3cb-8118ca641661')\"\n",
              "              title=\"Convert this dataframe to an interactive table.\"\n",
              "              style=\"display:none;\">\n",
              "        \n",
              "  <svg xmlns=\"http://www.w3.org/2000/svg\" height=\"24px\"viewBox=\"0 0 24 24\"\n",
              "       width=\"24px\">\n",
              "    <path d=\"M0 0h24v24H0V0z\" fill=\"none\"/>\n",
              "    <path d=\"M18.56 5.44l.94 2.06.94-2.06 2.06-.94-2.06-.94-.94-2.06-.94 2.06-2.06.94zm-11 1L8.5 8.5l.94-2.06 2.06-.94-2.06-.94L8.5 2.5l-.94 2.06-2.06.94zm10 10l.94 2.06.94-2.06 2.06-.94-2.06-.94-.94-2.06-.94 2.06-2.06.94z\"/><path d=\"M17.41 7.96l-1.37-1.37c-.4-.4-.92-.59-1.43-.59-.52 0-1.04.2-1.43.59L10.3 9.45l-7.72 7.72c-.78.78-.78 2.05 0 2.83L4 21.41c.39.39.9.59 1.41.59.51 0 1.02-.2 1.41-.59l7.78-7.78 2.81-2.81c.8-.78.8-2.07 0-2.86zM5.41 20L4 18.59l7.72-7.72 1.47 1.35L5.41 20z\"/>\n",
              "  </svg>\n",
              "      </button>\n",
              "      \n",
              "  <style>\n",
              "    .colab-df-container {\n",
              "      display:flex;\n",
              "      flex-wrap:wrap;\n",
              "      gap: 12px;\n",
              "    }\n",
              "\n",
              "    .colab-df-convert {\n",
              "      background-color: #E8F0FE;\n",
              "      border: none;\n",
              "      border-radius: 50%;\n",
              "      cursor: pointer;\n",
              "      display: none;\n",
              "      fill: #1967D2;\n",
              "      height: 32px;\n",
              "      padding: 0 0 0 0;\n",
              "      width: 32px;\n",
              "    }\n",
              "\n",
              "    .colab-df-convert:hover {\n",
              "      background-color: #E2EBFA;\n",
              "      box-shadow: 0px 1px 2px rgba(60, 64, 67, 0.3), 0px 1px 3px 1px rgba(60, 64, 67, 0.15);\n",
              "      fill: #174EA6;\n",
              "    }\n",
              "\n",
              "    [theme=dark] .colab-df-convert {\n",
              "      background-color: #3B4455;\n",
              "      fill: #D2E3FC;\n",
              "    }\n",
              "\n",
              "    [theme=dark] .colab-df-convert:hover {\n",
              "      background-color: #434B5C;\n",
              "      box-shadow: 0px 1px 3px 1px rgba(0, 0, 0, 0.15);\n",
              "      filter: drop-shadow(0px 1px 2px rgba(0, 0, 0, 0.3));\n",
              "      fill: #FFFFFF;\n",
              "    }\n",
              "  </style>\n",
              "\n",
              "      <script>\n",
              "        const buttonEl =\n",
              "          document.querySelector('#df-e21ae584-0a2a-4a0f-b3cb-8118ca641661 button.colab-df-convert');\n",
              "        buttonEl.style.display =\n",
              "          google.colab.kernel.accessAllowed ? 'block' : 'none';\n",
              "\n",
              "        async function convertToInteractive(key) {\n",
              "          const element = document.querySelector('#df-e21ae584-0a2a-4a0f-b3cb-8118ca641661');\n",
              "          const dataTable =\n",
              "            await google.colab.kernel.invokeFunction('convertToInteractive',\n",
              "                                                     [key], {});\n",
              "          if (!dataTable) return;\n",
              "\n",
              "          const docLinkHtml = 'Like what you see? Visit the ' +\n",
              "            '<a target=\"_blank\" href=https://colab.research.google.com/notebooks/data_table.ipynb>data table notebook</a>'\n",
              "            + ' to learn more about interactive tables.';\n",
              "          element.innerHTML = '';\n",
              "          dataTable['output_type'] = 'display_data';\n",
              "          await google.colab.output.renderOutput(dataTable, element);\n",
              "          const docLink = document.createElement('div');\n",
              "          docLink.innerHTML = docLinkHtml;\n",
              "          element.appendChild(docLink);\n",
              "        }\n",
              "      </script>\n",
              "    </div>\n",
              "  </div>\n",
              "  "
            ]
          },
          "metadata": {},
          "execution_count": 8
        }
      ],
      "source": [
        "# Crear un dataframe de Pandas con los datos y el área\n",
        "df = pd.DataFrame({'distancia': distancia, 'lado': lado})\n",
        "\n",
        "df['area'] = df['lado']**2\n",
        "\n",
        "df"
      ]
    },
    {
      "cell_type": "code",
      "source": [
        "# LADO: Realizar el ajuste lineal y mostrar los resultados\n",
        "print('=====LADO===== \\n')\n",
        "slope, intercept, r_value, p_value, std_err = linregress(df['distancia'], df['lado'])\n",
        "print('Pendiente:', slope)\n",
        "print('Intersección:', intercept)\n",
        "print('Coeficiente de correlación:', r_value)\n",
        "print('Valor p:', p_value)\n",
        "print('Error estándar:', std_err)\n",
        "\n",
        "# AREA: Calcular el ajuste cuadrático\n",
        "print('\\n=====AREA===== \\n')\n",
        "coeffs = np.polyfit(distancia, [l**2 for l in lado], 2)\n",
        "a, b, c = coeffs\n",
        "\n",
        "#L--> AREA: resultados\n",
        "y_pred = a*df['distancia']**2 + b*df['distancia'] + c\n",
        "r2 = r2_score(df['area'], y_pred)\n",
        "print('Coeficiente de determinación R2:', r2)\n",
        "print('Ajuste: ','y=',a,'d^2 +',b,'d +',c)"
      ],
      "metadata": {
        "colab": {
          "base_uri": "https://localhost:8080/"
        },
        "id": "kB3JpRM2VWia",
        "outputId": "426708d3-d9f0-476b-cbfd-b9d474cfbf36"
      },
      "execution_count": null,
      "outputs": [
        {
          "output_type": "stream",
          "name": "stdout",
          "text": [
            "=====LADO===== \n",
            "\n",
            "Pendiente: 0.1753939393939394\n",
            "Intersección: 0.29272727272727206\n",
            "Coeficiente de correlación: 0.999588564167049\n",
            "Valor p: 1.253060589687543e-13\n",
            "Error estándar: 0.0017793840310186034\n",
            "\n",
            "=====AREA===== \n",
            "\n",
            "Coeficiente de determinación R2: 0.9997111518768623\n",
            "Ajuste:  y= 0.03506818181818172 d^2 + -0.2023924242424175 d + 4.589272727272588\n"
          ]
        }
      ]
    },
    {
      "cell_type": "code",
      "execution_count": null,
      "metadata": {
        "colab": {
          "base_uri": "https://localhost:8080/",
          "height": 295
        },
        "id": "HPZznJZ60AcJ",
        "outputId": "c83d054c-d1f7-415c-c791-d442a12699fb"
      },
      "outputs": [
        {
          "output_type": "display_data",
          "data": {
            "text/plain": [
              "<Figure size 432x288 with 1 Axes>"
            ],
            "image/png": "[encoded data removed]"
          },
          "metadata": {
            "needs_background": "light"
          }
        }
      ],
      "source": [
        "# Graficar los datos con el ajuste lineal\n",
        "plt.plot(df['distancia'], df['lado'], 'bo', label='Datos')\n",
        "plt.plot(df['distancia'], slope*df['distancia']+intercept, 'r-', label='Ajuste lineal')\n",
        "plt.xlabel('Distancia')\n",
        "plt.ylabel('Lado')\n",
        "plt.title('Lado vs Distancia con Ajuste Lineal')\n",
        "plt.legend()\n",
        "plt.show()"
      ]
    },
    {
      "cell_type": "code",
      "source": [
        "# Graficar los datos y el ajuste cuadrático\n",
        "plt.plot(df['distancia'], df['area'], 'bo', label='Datos')\n",
        "plt.plot(df['distancia'], a*df['distancia']**2 + b*df['distancia'] + c, 'r-', label='Ajuste cuadrático')\n",
        "plt.xlabel('Distancia')\n",
        "plt.ylabel('Área')\n",
        "plt.title('Área vs Distancia con Ajuste Cuadrático')\n",
        "plt.legend()\n",
        "plt.show()"
      ],
      "metadata": {
        "colab": {
          "base_uri": "https://localhost:8080/",
          "height": 297
        },
        "id": "ATSXk3ljXXHo",
        "outputId": "c7c3543a-cdf8-45a8-fe0e-574eb3420a10"
      },
      "execution_count": null,
      "outputs": [
        {
          "output_type": "display_data",
          "data": {
            "text/plain": [
              "<Figure size 432x288 with 1 Axes>"
            ],
            "image/png": "[encoded data removed]"
          },
          "metadata": {
            "needs_background": "light"
          }
        }
      ]
    }
  ],
  "metadata": {
    "colab": {
      "provenance": []
    },
    "kernelspec": {
      "display_name": "Python 3",
      "language": "python",
      "name": "python3"
    },
    "language_info": {
      "codemirror_mode": {
        "name": "ipython",
        "version": 3
      },
      "file_extension": ".py",
      "mimetype": "text/x-python",
      "name": "python",
      "nbconvert_exporter": "python",
      "pygments_lexer": "ipython3",
      "version": "3.11.0"
    },
    "vscode": {
      "interpreter": {
        "hash": "5238573367df39f7286bb46f9ff5f08f63a01a80960060ce41e3c79b190280fa"
      }
    }
  },
  "nbformat": 4,
  "nbformat_minor": 0
}