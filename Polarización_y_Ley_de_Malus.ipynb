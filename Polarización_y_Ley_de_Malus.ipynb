{
  "nbformat": 4,
  "nbformat_minor": 0,
  "metadata": {
    "colab": {
      "provenance": [],
      "collapsed_sections": [
        "qDZNaaFzlQqV",
        "IobmeH-xlLtc"
      ],
      "authorship_tag": "ABX9TyOJsDU01Ke7gi5mZ/hwtmbl",
      "include_colab_link": true
    },
    "kernelspec": {
      "name": "python3",
      "display_name": "Python 3"
    },
    "language_info": {
      "name": "python"
    }
  },
  "cells": [
    {
      "cell_type": "markdown",
      "metadata": {
        "id": "view-in-github",
        "colab_type": "text"
      },
      "source": [
        "<a href=\"https://colab.research.google.com/github/MaximilianoVM/OPTICS-LAB-2023-1/blob/main/Polarizaci%C3%B3n_y_Ley_de_Malus.ipynb\" target=\"_parent\"><img src=\"https://colab.research.google.com/assets/colab-badge.svg\" alt=\"Open In Colab\"/></a>"
      ]
    },
    {
      "cell_type": "code",
      "execution_count": 2,
      "metadata": {
        "id": "nRrr3APWUCgp"
      },
      "outputs": [],
      "source": [
        "import pandas as pd\n",
        "import numpy as np\n",
        "import matplotlib.pyplot as plt\n",
        "from scipy.stats import linregress\n",
        "import math \n",
        "#from sklearn.metrics import mean_squared_error, mean_absolute_error, r2_score"
      ]
    },
    {
      "cell_type": "markdown",
      "source": [
        "vueltas -> analizador\n",
        "\n",
        "ambos polarizadores en 0 -> ejes de transmision paralelos, deberiamos poder ver a traves de los 2 polarizadores MAXIMO\n",
        "\n",
        "90 grados -> cruzados, oscuro MINIMO\n",
        "\n",
        "va a haber un desplazamiento de unos 5 grados\n",
        "\n"
      ],
      "metadata": {
        "id": "nx9L7YFjVSAj"
      }
    },
    {
      "cell_type": "markdown",
      "source": [
        "## LED CELULAR"
      ],
      "metadata": {
        "id": "qDZNaaFzlQqV"
      }
    },
    {
      "cell_type": "code",
      "source": [
        "\n",
        "s = {0:48, \n",
        "     10:50, \n",
        "     20:43, \n",
        "     30:36, \n",
        "     40:30, \n",
        "     50:26, \n",
        "     60:17, \n",
        "     70:10, \n",
        "     80:5, \n",
        "     90:2,\n",
        "\n",
        "     100:2, \n",
        "     110:4, \n",
        "     120:10, \n",
        "     130:15, \n",
        "     140:26,\n",
        "     150:37, \n",
        "     160:48, \n",
        "     170:34, \n",
        "     180:38, \n",
        "\n",
        "     190:48, \n",
        "     200:43, \n",
        "     210:41, \n",
        "     220:34,\n",
        "     230:27, \n",
        "     240:15, \n",
        "     250:11, \n",
        "     260:6, \n",
        "     270:2, \n",
        "\n",
        "     280:2, \n",
        "     290:5, \n",
        "     300:12,\n",
        "     310:19,\n",
        "     320:33, \n",
        "     330:32, \n",
        "     340:34, \n",
        "     350:41, \n",
        "     360:54\n",
        "\n",
        "     }\n"
      ],
      "metadata": {
        "id": "JtuMRvhwURX3"
      },
      "execution_count": 5,
      "outputs": []
    },
    {
      "cell_type": "code",
      "source": [
        "an = np.array( list(s.keys()) )\n",
        "\n",
        "val = np.array( list(s.values()) )\n",
        "\n"
      ],
      "metadata": {
        "id": "e1tOuCKagLet"
      },
      "execution_count": 6,
      "outputs": []
    },
    {
      "cell_type": "code",
      "source": [
        "df1 = pd.DataFrame({'angulos': an, 'intensidad': val})"
      ],
      "metadata": {
        "id": "nvdYh9_JgY-g"
      },
      "execution_count": 7,
      "outputs": []
    },
    {
      "cell_type": "code",
      "source": [
        "df1.head()"
      ],
      "metadata": {
        "colab": {
          "base_uri": "https://localhost:8080/",
          "height": 206
        },
        "id": "iCUXgcWdgr0Q",
        "outputId": "185ebfc0-6cc0-4b60-afd3-185123e56bed"
      },
      "execution_count": 12,
      "outputs": [
        {
          "output_type": "execute_result",
          "data": {
            "text/plain": [
              "   angulos  intensidad\n",
              "0        0          48\n",
              "1       10          50\n",
              "2       20          43\n",
              "3       30          36\n",
              "4       40          30"
            ],
            "text/html": [
              "\n",
              "  <div id=\"df-7b6b3876-b37d-4281-a9fa-b69101954b62\">\n",
              "    <div class=\"colab-df-container\">\n",
              "      <div>\n",
              "<style scoped>\n",
              "    .dataframe tbody tr th:only-of-type {\n",
              "        vertical-align: middle;\n",
              "    }\n",
              "\n",
              "    .dataframe tbody tr th {\n",
              "        vertical-align: top;\n",
              "    }\n",
              "\n",
              "    .dataframe thead th {\n",
              "        text-align: right;\n",
              "    }\n",
              "</style>\n",
              "<table border=\"1\" class=\"dataframe\">\n",
              "  <thead>\n",
              "    <tr style=\"text-align: right;\">\n",
              "      <th></th>\n",
              "      <th>angulos</th>\n",
              "      <th>intensidad</th>\n",
              "    </tr>\n",
              "  </thead>\n",
              "  <tbody>\n",
              "    <tr>\n",
              "      <th>0</th>\n",
              "      <td>0</td>\n",
              "      <td>48</td>\n",
              "    </tr>\n",
              "    <tr>\n",
              "      <th>1</th>\n",
              "      <td>10</td>\n",
              "      <td>50</td>\n",
              "    </tr>\n",
              "    <tr>\n",
              "      <th>2</th>\n",
              "      <td>20</td>\n",
              "      <td>43</td>\n",
              "    </tr>\n",
              "    <tr>\n",
              "      <th>3</th>\n",
              "      <td>30</td>\n",
              "      <td>36</td>\n",
              "    </tr>\n",
              "    <tr>\n",
              "      <th>4</th>\n",
              "      <td>40</td>\n",
              "      <td>30</td>\n",
              "    </tr>\n",
              "  </tbody>\n",
              "</table>\n",
              "</div>\n",
              "      <button class=\"colab-df-convert\" onclick=\"convertToInteractive('df-7b6b3876-b37d-4281-a9fa-b69101954b62')\"\n",
              "              title=\"Convert this dataframe to an interactive table.\"\n",
              "              style=\"display:none;\">\n",
              "        \n",
              "  <svg xmlns=\"http://www.w3.org/2000/svg\" height=\"24px\"viewBox=\"0 0 24 24\"\n",
              "       width=\"24px\">\n",
              "    <path d=\"M0 0h24v24H0V0z\" fill=\"none\"/>\n",
              "    <path d=\"M18.56 5.44l.94 2.06.94-2.06 2.06-.94-2.06-.94-.94-2.06-.94 2.06-2.06.94zm-11 1L8.5 8.5l.94-2.06 2.06-.94-2.06-.94L8.5 2.5l-.94 2.06-2.06.94zm10 10l.94 2.06.94-2.06 2.06-.94-2.06-.94-.94-2.06-.94 2.06-2.06.94z\"/><path d=\"M17.41 7.96l-1.37-1.37c-.4-.4-.92-.59-1.43-.59-.52 0-1.04.2-1.43.59L10.3 9.45l-7.72 7.72c-.78.78-.78 2.05 0 2.83L4 21.41c.39.39.9.59 1.41.59.51 0 1.02-.2 1.41-.59l7.78-7.78 2.81-2.81c.8-.78.8-2.07 0-2.86zM5.41 20L4 18.59l7.72-7.72 1.47 1.35L5.41 20z\"/>\n",
              "  </svg>\n",
              "      </button>\n",
              "      \n",
              "  <style>\n",
              "    .colab-df-container {\n",
              "      display:flex;\n",
              "      flex-wrap:wrap;\n",
              "      gap: 12px;\n",
              "    }\n",
              "\n",
              "    .colab-df-convert {\n",
              "      background-color: #E8F0FE;\n",
              "      border: none;\n",
              "      border-radius: 50%;\n",
              "      cursor: pointer;\n",
              "      display: none;\n",
              "      fill: #1967D2;\n",
              "      height: 32px;\n",
              "      padding: 0 0 0 0;\n",
              "      width: 32px;\n",
              "    }\n",
              "\n",
              "    .colab-df-convert:hover {\n",
              "      background-color: #E2EBFA;\n",
              "      box-shadow: 0px 1px 2px rgba(60, 64, 67, 0.3), 0px 1px 3px 1px rgba(60, 64, 67, 0.15);\n",
              "      fill: #174EA6;\n",
              "    }\n",
              "\n",
              "    [theme=dark] .colab-df-convert {\n",
              "      background-color: #3B4455;\n",
              "      fill: #D2E3FC;\n",
              "    }\n",
              "\n",
              "    [theme=dark] .colab-df-convert:hover {\n",
              "      background-color: #434B5C;\n",
              "      box-shadow: 0px 1px 3px 1px rgba(0, 0, 0, 0.15);\n",
              "      filter: drop-shadow(0px 1px 2px rgba(0, 0, 0, 0.3));\n",
              "      fill: #FFFFFF;\n",
              "    }\n",
              "  </style>\n",
              "\n",
              "      <script>\n",
              "        const buttonEl =\n",
              "          document.querySelector('#df-7b6b3876-b37d-4281-a9fa-b69101954b62 button.colab-df-convert');\n",
              "        buttonEl.style.display =\n",
              "          google.colab.kernel.accessAllowed ? 'block' : 'none';\n",
              "\n",
              "        async function convertToInteractive(key) {\n",
              "          const element = document.querySelector('#df-7b6b3876-b37d-4281-a9fa-b69101954b62');\n",
              "          const dataTable =\n",
              "            await google.colab.kernel.invokeFunction('convertToInteractive',\n",
              "                                                     [key], {});\n",
              "          if (!dataTable) return;\n",
              "\n",
              "          const docLinkHtml = 'Like what you see? Visit the ' +\n",
              "            '<a target=\"_blank\" href=https://colab.research.google.com/notebooks/data_table.ipynb>data table notebook</a>'\n",
              "            + ' to learn more about interactive tables.';\n",
              "          element.innerHTML = '';\n",
              "          dataTable['output_type'] = 'display_data';\n",
              "          await google.colab.output.renderOutput(dataTable, element);\n",
              "          const docLink = document.createElement('div');\n",
              "          docLink.innerHTML = docLinkHtml;\n",
              "          element.appendChild(docLink);\n",
              "        }\n",
              "      </script>\n",
              "    </div>\n",
              "  </div>\n",
              "  "
            ]
          },
          "metadata": {},
          "execution_count": 12
        }
      ]
    },
    {
      "cell_type": "code",
      "source": [
        "plt.plot(df1['angulos'], df1['intensidad'], 'bo')\n"
      ],
      "metadata": {
        "colab": {
          "base_uri": "https://localhost:8080/",
          "height": 448
        },
        "id": "Q473jx0Lgsm0",
        "outputId": "42ef3f7a-af17-4946-a76c-3e2aab7629f1"
      },
      "execution_count": 11,
      "outputs": [
        {
          "output_type": "execute_result",
          "data": {
            "text/plain": [
              "[<matplotlib.lines.Line2D at 0x7f4e5099f0d0>]"
            ]
          },
          "metadata": {},
          "execution_count": 11
        },
        {
          "output_type": "display_data",
          "data": {
            "text/plain": [
              "<Figure size 640x480 with 1 Axes>"
            ],
            "image/png": "[encoded data removed]"
          },
          "metadata": {}
        }
      ]
    },
    {
      "cell_type": "markdown",
      "source": [
        "##  LUZ 2"
      ],
      "metadata": {
        "id": "IobmeH-xlLtc"
      }
    },
    {
      "cell_type": "code",
      "source": [
        " dos = {\n",
        "    \n",
        "  0:15, \n",
        "  10:14,\n",
        "  20:13, \n",
        "  30:11, \n",
        "  40:9, \n",
        "  50:8, \n",
        "  60:6, \n",
        "  70:4, \n",
        "  80:3, \n",
        "  90:2, \n",
        "\n",
        "  100:2, \n",
        "  110:3, \n",
        "  120:4, \n",
        "  130:6, \n",
        "  140:7, \n",
        "  150:9, \n",
        "  160:10, \n",
        "  170:11, \n",
        "  180:13, \n",
        "  170:15, \n",
        "  180:14, \n",
        "\n",
        "  190:14, \n",
        "  200:13, \n",
        "  210:12, \n",
        "  220:10, \n",
        "  230:8, \n",
        "  240:6, \n",
        "  250:4, \n",
        "  260:3, \n",
        "  270:2, \n",
        "  280:2,\n",
        "  290:3, \n",
        "  300:4, \n",
        "  310:6, \n",
        "  320:8, \n",
        "  330:10, \n",
        "  340:12, \n",
        "  350:13, \n",
        "  360:14\n",
        "\n",
        "}"
      ],
      "metadata": {
        "id": "3kOToDYtgxEb"
      },
      "execution_count": 13,
      "outputs": []
    },
    {
      "cell_type": "code",
      "source": [
        "an2 = np.array( list(dos.keys()) )\n",
        "\n",
        "val2 = np.array( list(dos.values()) )\n"
      ],
      "metadata": {
        "id": "as_rplHZkfK0"
      },
      "execution_count": 14,
      "outputs": []
    },
    {
      "cell_type": "code",
      "source": [
        "df2 = pd.DataFrame({'angulos': an2, 'intensidad': val2})"
      ],
      "metadata": {
        "id": "SrFxjOEUkomq"
      },
      "execution_count": 15,
      "outputs": []
    },
    {
      "cell_type": "code",
      "source": [
        "df2.head()"
      ],
      "metadata": {
        "colab": {
          "base_uri": "https://localhost:8080/",
          "height": 206
        },
        "id": "_xebyLUrkwQi",
        "outputId": "17033542-0e02-4877-bab1-4a3d0019fbec"
      },
      "execution_count": 16,
      "outputs": [
        {
          "output_type": "execute_result",
          "data": {
            "text/plain": [
              "   angulos  intensidad\n",
              "0        0          15\n",
              "1       10          14\n",
              "2       20          13\n",
              "3       30          11\n",
              "4       40           9"
            ],
            "text/html": [
              "\n",
              "  <div id=\"df-555cec1c-c373-427c-9516-272acea8640e\">\n",
              "    <div class=\"colab-df-container\">\n",
              "      <div>\n",
              "<style scoped>\n",
              "    .dataframe tbody tr th:only-of-type {\n",
              "        vertical-align: middle;\n",
              "    }\n",
              "\n",
              "    .dataframe tbody tr th {\n",
              "        vertical-align: top;\n",
              "    }\n",
              "\n",
              "    .dataframe thead th {\n",
              "        text-align: right;\n",
              "    }\n",
              "</style>\n",
              "<table border=\"1\" class=\"dataframe\">\n",
              "  <thead>\n",
              "    <tr style=\"text-align: right;\">\n",
              "      <th></th>\n",
              "      <th>angulos</th>\n",
              "      <th>intensidad</th>\n",
              "    </tr>\n",
              "  </thead>\n",
              "  <tbody>\n",
              "    <tr>\n",
              "      <th>0</th>\n",
              "      <td>0</td>\n",
              "      <td>15</td>\n",
              "    </tr>\n",
              "    <tr>\n",
              "      <th>1</th>\n",
              "      <td>10</td>\n",
              "      <td>14</td>\n",
              "    </tr>\n",
              "    <tr>\n",
              "      <th>2</th>\n",
              "      <td>20</td>\n",
              "      <td>13</td>\n",
              "    </tr>\n",
              "    <tr>\n",
              "      <th>3</th>\n",
              "      <td>30</td>\n",
              "      <td>11</td>\n",
              "    </tr>\n",
              "    <tr>\n",
              "      <th>4</th>\n",
              "      <td>40</td>\n",
              "      <td>9</td>\n",
              "    </tr>\n",
              "  </tbody>\n",
              "</table>\n",
              "</div>\n",
              "      <button class=\"colab-df-convert\" onclick=\"convertToInteractive('df-555cec1c-c373-427c-9516-272acea8640e')\"\n",
              "              title=\"Convert this dataframe to an interactive table.\"\n",
              "              style=\"display:none;\">\n",
              "        \n",
              "  <svg xmlns=\"http://www.w3.org/2000/svg\" height=\"24px\"viewBox=\"0 0 24 24\"\n",
              "       width=\"24px\">\n",
              "    <path d=\"M0 0h24v24H0V0z\" fill=\"none\"/>\n",
              "    <path d=\"M18.56 5.44l.94 2.06.94-2.06 2.06-.94-2.06-.94-.94-2.06-.94 2.06-2.06.94zm-11 1L8.5 8.5l.94-2.06 2.06-.94-2.06-.94L8.5 2.5l-.94 2.06-2.06.94zm10 10l.94 2.06.94-2.06 2.06-.94-2.06-.94-.94-2.06-.94 2.06-2.06.94z\"/><path d=\"M17.41 7.96l-1.37-1.37c-.4-.4-.92-.59-1.43-.59-.52 0-1.04.2-1.43.59L10.3 9.45l-7.72 7.72c-.78.78-.78 2.05 0 2.83L4 21.41c.39.39.9.59 1.41.59.51 0 1.02-.2 1.41-.59l7.78-7.78 2.81-2.81c.8-.78.8-2.07 0-2.86zM5.41 20L4 18.59l7.72-7.72 1.47 1.35L5.41 20z\"/>\n",
              "  </svg>\n",
              "      </button>\n",
              "      \n",
              "  <style>\n",
              "    .colab-df-container {\n",
              "      display:flex;\n",
              "      flex-wrap:wrap;\n",
              "      gap: 12px;\n",
              "    }\n",
              "\n",
              "    .colab-df-convert {\n",
              "      background-color: #E8F0FE;\n",
              "      border: none;\n",
              "      border-radius: 50%;\n",
              "      cursor: pointer;\n",
              "      display: none;\n",
              "      fill: #1967D2;\n",
              "      height: 32px;\n",
              "      padding: 0 0 0 0;\n",
              "      width: 32px;\n",
              "    }\n",
              "\n",
              "    .colab-df-convert:hover {\n",
              "      background-color: #E2EBFA;\n",
              "      box-shadow: 0px 1px 2px rgba(60, 64, 67, 0.3), 0px 1px 3px 1px rgba(60, 64, 67, 0.15);\n",
              "      fill: #174EA6;\n",
              "    }\n",
              "\n",
              "    [theme=dark] .colab-df-convert {\n",
              "      background-color: #3B4455;\n",
              "      fill: #D2E3FC;\n",
              "    }\n",
              "\n",
              "    [theme=dark] .colab-df-convert:hover {\n",
              "      background-color: #434B5C;\n",
              "      box-shadow: 0px 1px 3px 1px rgba(0, 0, 0, 0.15);\n",
              "      filter: drop-shadow(0px 1px 2px rgba(0, 0, 0, 0.3));\n",
              "      fill: #FFFFFF;\n",
              "    }\n",
              "  </style>\n",
              "\n",
              "      <script>\n",
              "        const buttonEl =\n",
              "          document.querySelector('#df-555cec1c-c373-427c-9516-272acea8640e button.colab-df-convert');\n",
              "        buttonEl.style.display =\n",
              "          google.colab.kernel.accessAllowed ? 'block' : 'none';\n",
              "\n",
              "        async function convertToInteractive(key) {\n",
              "          const element = document.querySelector('#df-555cec1c-c373-427c-9516-272acea8640e');\n",
              "          const dataTable =\n",
              "            await google.colab.kernel.invokeFunction('convertToInteractive',\n",
              "                                                     [key], {});\n",
              "          if (!dataTable) return;\n",
              "\n",
              "          const docLinkHtml = 'Like what you see? Visit the ' +\n",
              "            '<a target=\"_blank\" href=https://colab.research.google.com/notebooks/data_table.ipynb>data table notebook</a>'\n",
              "            + ' to learn more about interactive tables.';\n",
              "          element.innerHTML = '';\n",
              "          dataTable['output_type'] = 'display_data';\n",
              "          await google.colab.output.renderOutput(dataTable, element);\n",
              "          const docLink = document.createElement('div');\n",
              "          docLink.innerHTML = docLinkHtml;\n",
              "          element.appendChild(docLink);\n",
              "        }\n",
              "      </script>\n",
              "    </div>\n",
              "  </div>\n",
              "  "
            ]
          },
          "metadata": {},
          "execution_count": 16
        }
      ]
    },
    {
      "cell_type": "code",
      "source": [
        "plt.plot(df2['angulos'], df2['intensidad'], 'bo')"
      ],
      "metadata": {
        "colab": {
          "base_uri": "https://localhost:8080/",
          "height": 448
        },
        "id": "yPY2Iv78k1cj",
        "outputId": "8b46917c-2ea8-4609-cbc0-c150c28eb600"
      },
      "execution_count": 19,
      "outputs": [
        {
          "output_type": "execute_result",
          "data": {
            "text/plain": [
              "[<matplotlib.lines.Line2D at 0x7f4e4e81e080>]"
            ]
          },
          "metadata": {},
          "execution_count": 19
        },
        {
          "output_type": "display_data",
          "data": {
            "text/plain": [
              "<Figure size 640x480 with 1 Axes>"
            ],
            "image/png": "[encoded data removed]"
          },
          "metadata": {}
        }
      ]
    },
    {
      "cell_type": "markdown",
      "source": [
        "## LASER"
      ],
      "metadata": {
        "id": "qcTEl0-DmVFN"
      }
    },
    {
      "cell_type": "code",
      "source": [
        "laser = { \n",
        "    \n",
        "    0:3, \n",
        "    10:2.7, \n",
        "    20:2.3, \n",
        "    30:2.08, \n",
        "    40:1.97, \n",
        "    50:2, \n",
        "    60:2.2, \n",
        "    70:2.6, \n",
        "    80:3, \n",
        "    90:3.4, \n",
        "\n",
        "    100:3.6, \n",
        "    110:3.7, \n",
        "    120:3.7, \n",
        "    130:3.6, \n",
        "    140:3.4, \n",
        "    150:3.1, \n",
        "    160:2.68, \n",
        "    170:2.7, \n",
        "    180:2, \n",
        "\n",
        "    190:1.9, \n",
        "    200:1.85, \n",
        "    210:1.96, \n",
        "    220:2.35, \n",
        "    230:3, \n",
        "    240:3.2, \n",
        "    250:3.6, \n",
        "    260:3.7, \n",
        "    270:3.8, \n",
        "    280:3.8, \n",
        "    290:3.7, \n",
        "\n",
        "    300:3.7, \n",
        "    310:3.64, \n",
        "    320:3.2, \n",
        "    330:2.75, \n",
        "    340:2.22, \n",
        "    350:1.7, \n",
        "    360:1.4\n",
        "\n",
        "}"
      ],
      "metadata": {
        "id": "cnyTgG_pk7U-"
      },
      "execution_count": null,
      "outputs": []
    }
  ]
}