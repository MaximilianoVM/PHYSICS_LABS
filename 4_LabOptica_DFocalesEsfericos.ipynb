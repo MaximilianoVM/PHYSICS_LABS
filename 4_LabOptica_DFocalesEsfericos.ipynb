{
  "nbformat": 4,
  "nbformat_minor": 0,
  "metadata": {
    "colab": {
      "provenance": [],
      "toc_visible": true,
      "collapsed_sections": [
        "hsvNVQcgIeRM",
        "Lq1xFtdqUY_R",
        "Icc01epGUjWY"
      ]
    },
    "kernelspec": {
      "name": "python3",
      "display_name": "Python 3"
    },
    "language_info": {
      "name": "python"
    }
  },
  "cells": [
    {
      "cell_type": "code",
      "execution_count": 2,
      "metadata": {
        "id": "hE5pRx86O11h"
      },
      "outputs": [],
      "source": [
        "import pandas as pd\n",
        "import numpy as np\n",
        "import matplotlib.pyplot as plt\n",
        "from scipy.stats import linregress\n",
        "import math \n",
        "from sklearn.metrics import mean_squared_error, mean_absolute_error, r2_score"
      ]
    },
    {
      "cell_type": "markdown",
      "source": [
        "#ESPEJOS"
      ],
      "metadata": {
        "id": "_DhbpZO3eGsG"
      }
    },
    {
      "cell_type": "markdown",
      "source": [
        "##Si y So "
      ],
      "metadata": {
        "id": "OknZVEAzURN7"
      }
    },
    {
      "cell_type": "code",
      "source": [
        "   #So:Si\n",
        "\n",
        "s = {115: (10.1, 10.6), \n",
        "     110: (10.2, 11.1), \n",
        "     105: (10.4, 10.9), \n",
        "     100: (10.3, 11.1), \n",
        "     95 : (10.2, 11.2), \n",
        "     90 : (10.6, 11.5),\n",
        "     85 : (10.7, 11.5),\n",
        "     80 : (10.8, 11.5),\n",
        "     75 : (11  , 11.6),\n",
        "     70 : (10.9, 11.8),\n",
        "     65 : (11.2, 11.8),\n",
        "     60 : (11.3, 12  ),\n",
        "     55 : (11.3, 12.4),\n",
        "     50 : (11.5, 12.6), #es claro durante un intervalo mas grande\n",
        "     45 : (11.7, 12.9),\n",
        "     40 : (12.2, 13.5),\n",
        "     35 : (12.5, 14.5),\n",
        "     30 : (13.4, 15.2),\n",
        "     25 : (15  , 16.5)\n",
        "\n",
        "     \n",
        "     }\n",
        "\n",
        "\n",
        "\n",
        "so = np.array( list(s.keys()) )\n",
        "\n",
        "si_vect = np.array( list(s.values()) )\n",
        "\n",
        "si_means = np.array([np.mean(v) for v in si_vect])\n",
        "\n",
        "print(si_means)\n"
      ],
      "metadata": {
        "id": "YZ3zrqdtSgW3",
        "colab": {
          "base_uri": "https://localhost:8080/"
        },
        "outputId": "7cd27700-a4d6-40ea-e648-4d40d2d9175d"
      },
      "execution_count": 34,
      "outputs": [
        {
          "output_type": "stream",
          "name": "stdout",
          "text": [
            "[10.35 10.65 10.65 10.7  10.7  11.05 11.1  11.15 11.3  11.35 11.5  11.65\n",
            " 11.85 12.05 12.3  12.85 13.5  14.3  15.75]\n"
          ]
        }
      ]
    },
    {
      "cell_type": "code",
      "source": [
        "si_means"
      ],
      "metadata": {
        "colab": {
          "base_uri": "https://localhost:8080/"
        },
        "id": "6HT4s3zJK-x9",
        "outputId": "1947b1e7-243f-48dc-842e-c9ad78d8968f"
      },
      "execution_count": 35,
      "outputs": [
        {
          "output_type": "execute_result",
          "data": {
            "text/plain": [
              "array([10.35, 10.65, 10.65, 10.7 , 10.7 , 11.05, 11.1 , 11.15, 11.3 ,\n",
              "       11.35, 11.5 , 11.65, 11.85, 12.05, 12.3 , 12.85, 13.5 , 14.3 ,\n",
              "       15.75])"
            ]
          },
          "metadata": {},
          "execution_count": 35
        }
      ]
    },
    {
      "cell_type": "code",
      "source": [
        "so"
      ],
      "metadata": {
        "colab": {
          "base_uri": "https://localhost:8080/"
        },
        "id": "1E_Z_OEZLFP4",
        "outputId": "03ce9bda-d704-4865-cd69-44ef00d3245b"
      },
      "execution_count": 36,
      "outputs": [
        {
          "output_type": "execute_result",
          "data": {
            "text/plain": [
              "array([115, 110, 105, 100,  95,  90,  85,  80,  75,  70,  65,  60,  55,\n",
              "        50,  45,  40,  35,  30,  25])"
            ]
          },
          "metadata": {},
          "execution_count": 36
        }
      ]
    },
    {
      "cell_type": "markdown",
      "source": [
        "##errores\n"
      ],
      "metadata": {
        "id": "hsvNVQcgIeRM"
      }
    },
    {
      "cell_type": "code",
      "source": [
        "error = np.array([ (x[1]-x[0])/2 for x in si_vect ])\n",
        "\n",
        "errordf = pd.DataFrame({'si':si_means , 'incertidumbre_si': error })\n",
        "\n",
        "\n",
        "disp_f = abs( ( so/(si_means + so) )**2 ) * error\n",
        "\n",
        "errordf['incertidumbre_f'] = disp_f\n",
        "\n",
        "errordf"
      ],
      "metadata": {
        "colab": {
          "base_uri": "https://localhost:8080/",
          "height": 0
        },
        "id": "1cBMExWIIdeo",
        "outputId": "cb73205c-d537-4067-e1ff-83324eae6d3c"
      },
      "execution_count": 37,
      "outputs": [
        {
          "output_type": "execute_result",
          "data": {
            "text/plain": [
              "       si  incertidumbre_si  incertidumbre_f\n",
              "0   10.35              0.25         0.210420\n",
              "1   10.65              0.45         0.374062\n",
              "2   10.65              0.25         0.206076\n",
              "3   10.70              0.40         0.326411\n",
              "4   10.70              0.50         0.403894\n",
              "5   11.05              0.45         0.356964\n",
              "6   11.10              0.40         0.312933\n",
              "7   11.15              0.35         0.269609\n",
              "8   11.30              0.30         0.226580\n",
              "9   11.35              0.45         0.333191\n",
              "10  11.50              0.30         0.216583\n",
              "11  11.65              0.35         0.245436\n",
              "12  11.85              0.55         0.372293\n",
              "13  12.05              0.55         0.357124\n",
              "14  12.30              0.60         0.370056\n",
              "15  12.85              0.65         0.372343\n",
              "16  13.50              1.00         0.520778\n",
              "17  14.30              0.90         0.412741\n",
              "18  15.75              0.75         0.282284"
            ],
            "text/html": [
              "\n",
              "  <div id=\"df-e52f0907-2920-476b-bdbc-d5e71fe8bf1a\">\n",
              "    <div class=\"colab-df-container\">\n",
              "      <div>\n",
              "<style scoped>\n",
              "    .dataframe tbody tr th:only-of-type {\n",
              "        vertical-align: middle;\n",
              "    }\n",
              "\n",
              "    .dataframe tbody tr th {\n",
              "        vertical-align: top;\n",
              "    }\n",
              "\n",
              "    .dataframe thead th {\n",
              "        text-align: right;\n",
              "    }\n",
              "</style>\n",
              "<table border=\"1\" class=\"dataframe\">\n",
              "  <thead>\n",
              "    <tr style=\"text-align: right;\">\n",
              "      <th></th>\n",
              "      <th>si</th>\n",
              "      <th>incertidumbre_si</th>\n",
              "      <th>incertidumbre_f</th>\n",
              "    </tr>\n",
              "  </thead>\n",
              "  <tbody>\n",
              "    <tr>\n",
              "      <th>0</th>\n",
              "      <td>10.35</td>\n",
              "      <td>0.25</td>\n",
              "      <td>0.210420</td>\n",
              "    </tr>\n",
              "    <tr>\n",
              "      <th>1</th>\n",
              "      <td>10.65</td>\n",
              "      <td>0.45</td>\n",
              "      <td>0.374062</td>\n",
              "    </tr>\n",
              "    <tr>\n",
              "      <th>2</th>\n",
              "      <td>10.65</td>\n",
              "      <td>0.25</td>\n",
              "      <td>0.206076</td>\n",
              "    </tr>\n",
              "    <tr>\n",
              "      <th>3</th>\n",
              "      <td>10.70</td>\n",
              "      <td>0.40</td>\n",
              "      <td>0.326411</td>\n",
              "    </tr>\n",
              "    <tr>\n",
              "      <th>4</th>\n",
              "      <td>10.70</td>\n",
              "      <td>0.50</td>\n",
              "      <td>0.403894</td>\n",
              "    </tr>\n",
              "    <tr>\n",
              "      <th>5</th>\n",
              "      <td>11.05</td>\n",
              "      <td>0.45</td>\n",
              "      <td>0.356964</td>\n",
              "    </tr>\n",
              "    <tr>\n",
              "      <th>6</th>\n",
              "      <td>11.10</td>\n",
              "      <td>0.40</td>\n",
              "      <td>0.312933</td>\n",
              "    </tr>\n",
              "    <tr>\n",
              "      <th>7</th>\n",
              "      <td>11.15</td>\n",
              "      <td>0.35</td>\n",
              "      <td>0.269609</td>\n",
              "    </tr>\n",
              "    <tr>\n",
              "      <th>8</th>\n",
              "      <td>11.30</td>\n",
              "      <td>0.30</td>\n",
              "      <td>0.226580</td>\n",
              "    </tr>\n",
              "    <tr>\n",
              "      <th>9</th>\n",
              "      <td>11.35</td>\n",
              "      <td>0.45</td>\n",
              "      <td>0.333191</td>\n",
              "    </tr>\n",
              "    <tr>\n",
              "      <th>10</th>\n",
              "      <td>11.50</td>\n",
              "      <td>0.30</td>\n",
              "      <td>0.216583</td>\n",
              "    </tr>\n",
              "    <tr>\n",
              "      <th>11</th>\n",
              "      <td>11.65</td>\n",
              "      <td>0.35</td>\n",
              "      <td>0.245436</td>\n",
              "    </tr>\n",
              "    <tr>\n",
              "      <th>12</th>\n",
              "      <td>11.85</td>\n",
              "      <td>0.55</td>\n",
              "      <td>0.372293</td>\n",
              "    </tr>\n",
              "    <tr>\n",
              "      <th>13</th>\n",
              "      <td>12.05</td>\n",
              "      <td>0.55</td>\n",
              "      <td>0.357124</td>\n",
              "    </tr>\n",
              "    <tr>\n",
              "      <th>14</th>\n",
              "      <td>12.30</td>\n",
              "      <td>0.60</td>\n",
              "      <td>0.370056</td>\n",
              "    </tr>\n",
              "    <tr>\n",
              "      <th>15</th>\n",
              "      <td>12.85</td>\n",
              "      <td>0.65</td>\n",
              "      <td>0.372343</td>\n",
              "    </tr>\n",
              "    <tr>\n",
              "      <th>16</th>\n",
              "      <td>13.50</td>\n",
              "      <td>1.00</td>\n",
              "      <td>0.520778</td>\n",
              "    </tr>\n",
              "    <tr>\n",
              "      <th>17</th>\n",
              "      <td>14.30</td>\n",
              "      <td>0.90</td>\n",
              "      <td>0.412741</td>\n",
              "    </tr>\n",
              "    <tr>\n",
              "      <th>18</th>\n",
              "      <td>15.75</td>\n",
              "      <td>0.75</td>\n",
              "      <td>0.282284</td>\n",
              "    </tr>\n",
              "  </tbody>\n",
              "</table>\n",
              "</div>\n",
              "      <button class=\"colab-df-convert\" onclick=\"convertToInteractive('df-e52f0907-2920-476b-bdbc-d5e71fe8bf1a')\"\n",
              "              title=\"Convert this dataframe to an interactive table.\"\n",
              "              style=\"display:none;\">\n",
              "        \n",
              "  <svg xmlns=\"http://www.w3.org/2000/svg\" height=\"24px\"viewBox=\"0 0 24 24\"\n",
              "       width=\"24px\">\n",
              "    <path d=\"M0 0h24v24H0V0z\" fill=\"none\"/>\n",
              "    <path d=\"M18.56 5.44l.94 2.06.94-2.06 2.06-.94-2.06-.94-.94-2.06-.94 2.06-2.06.94zm-11 1L8.5 8.5l.94-2.06 2.06-.94-2.06-.94L8.5 2.5l-.94 2.06-2.06.94zm10 10l.94 2.06.94-2.06 2.06-.94-2.06-.94-.94-2.06-.94 2.06-2.06.94z\"/><path d=\"M17.41 7.96l-1.37-1.37c-.4-.4-.92-.59-1.43-.59-.52 0-1.04.2-1.43.59L10.3 9.45l-7.72 7.72c-.78.78-.78 2.05 0 2.83L4 21.41c.39.39.9.59 1.41.59.51 0 1.02-.2 1.41-.59l7.78-7.78 2.81-2.81c.8-.78.8-2.07 0-2.86zM5.41 20L4 18.59l7.72-7.72 1.47 1.35L5.41 20z\"/>\n",
              "  </svg>\n",
              "      </button>\n",
              "      \n",
              "  <style>\n",
              "    .colab-df-container {\n",
              "      display:flex;\n",
              "      flex-wrap:wrap;\n",
              "      gap: 12px;\n",
              "    }\n",
              "\n",
              "    .colab-df-convert {\n",
              "      background-color: #E8F0FE;\n",
              "      border: none;\n",
              "      border-radius: 50%;\n",
              "      cursor: pointer;\n",
              "      display: none;\n",
              "      fill: #1967D2;\n",
              "      height: 32px;\n",
              "      padding: 0 0 0 0;\n",
              "      width: 32px;\n",
              "    }\n",
              "\n",
              "    .colab-df-convert:hover {\n",
              "      background-color: #E2EBFA;\n",
              "      box-shadow: 0px 1px 2px rgba(60, 64, 67, 0.3), 0px 1px 3px 1px rgba(60, 64, 67, 0.15);\n",
              "      fill: #174EA6;\n",
              "    }\n",
              "\n",
              "    [theme=dark] .colab-df-convert {\n",
              "      background-color: #3B4455;\n",
              "      fill: #D2E3FC;\n",
              "    }\n",
              "\n",
              "    [theme=dark] .colab-df-convert:hover {\n",
              "      background-color: #434B5C;\n",
              "      box-shadow: 0px 1px 3px 1px rgba(0, 0, 0, 0.15);\n",
              "      filter: drop-shadow(0px 1px 2px rgba(0, 0, 0, 0.3));\n",
              "      fill: #FFFFFF;\n",
              "    }\n",
              "  </style>\n",
              "\n",
              "      <script>\n",
              "        const buttonEl =\n",
              "          document.querySelector('#df-e52f0907-2920-476b-bdbc-d5e71fe8bf1a button.colab-df-convert');\n",
              "        buttonEl.style.display =\n",
              "          google.colab.kernel.accessAllowed ? 'block' : 'none';\n",
              "\n",
              "        async function convertToInteractive(key) {\n",
              "          const element = document.querySelector('#df-e52f0907-2920-476b-bdbc-d5e71fe8bf1a');\n",
              "          const dataTable =\n",
              "            await google.colab.kernel.invokeFunction('convertToInteractive',\n",
              "                                                     [key], {});\n",
              "          if (!dataTable) return;\n",
              "\n",
              "          const docLinkHtml = 'Like what you see? Visit the ' +\n",
              "            '<a target=\"_blank\" href=https://colab.research.google.com/notebooks/data_table.ipynb>data table notebook</a>'\n",
              "            + ' to learn more about interactive tables.';\n",
              "          element.innerHTML = '';\n",
              "          dataTable['output_type'] = 'display_data';\n",
              "          await google.colab.output.renderOutput(dataTable, element);\n",
              "          const docLink = document.createElement('div');\n",
              "          docLink.innerHTML = docLinkHtml;\n",
              "          element.appendChild(docLink);\n",
              "        }\n",
              "      </script>\n",
              "    </div>\n",
              "  </div>\n",
              "  "
            ]
          },
          "metadata": {},
          "execution_count": 37
        }
      ]
    },
    {
      "cell_type": "code",
      "source": [
        "errordf['incertidumbre_f'].mean()"
      ],
      "metadata": {
        "colab": {
          "base_uri": "https://localhost:8080/"
        },
        "id": "6Jqre5BkL3tn",
        "outputId": "55d63e60-bc8e-4d84-fc74-3cbfe60a1c69"
      },
      "execution_count": 38,
      "outputs": [
        {
          "output_type": "execute_result",
          "data": {
            "text/plain": [
              "0.32472518949161266"
            ]
          },
          "metadata": {},
          "execution_count": 38
        }
      ]
    },
    {
      "cell_type": "markdown",
      "source": [
        "## 1/Si y 1/So"
      ],
      "metadata": {
        "id": "Lq1xFtdqUY_R"
      }
    },
    {
      "cell_type": "code",
      "source": [
        "si_1 = 1/si_means\n",
        "so_1 = 1/so"
      ],
      "metadata": {
        "id": "aphz2icnRkqu"
      },
      "execution_count": 39,
      "outputs": []
    },
    {
      "cell_type": "markdown",
      "source": [
        "##Tabla "
      ],
      "metadata": {
        "id": "Icc01epGUjWY"
      }
    },
    {
      "cell_type": "code",
      "source": [
        "df1 = pd.DataFrame({'si': si_means, 'so': so, '1/si': si_1, '1/so': so_1})"
      ],
      "metadata": {
        "id": "5coq1jDiR3Ms"
      },
      "execution_count": 40,
      "outputs": []
    },
    {
      "cell_type": "code",
      "source": [
        "df1"
      ],
      "metadata": {
        "colab": {
          "base_uri": "https://localhost:8080/",
          "height": 0
        },
        "id": "2XeWczL6SXB2",
        "outputId": "1a0f86a1-34ee-4cb0-8f98-265bb7297331"
      },
      "execution_count": 41,
      "outputs": [
        {
          "output_type": "execute_result",
          "data": {
            "text/plain": [
              "       si   so      1/si      1/so\n",
              "0   10.35  115  0.096618  0.008696\n",
              "1   10.65  110  0.093897  0.009091\n",
              "2   10.65  105  0.093897  0.009524\n",
              "3   10.70  100  0.093458  0.010000\n",
              "4   10.70   95  0.093458  0.010526\n",
              "5   11.05   90  0.090498  0.011111\n",
              "6   11.10   85  0.090090  0.011765\n",
              "7   11.15   80  0.089686  0.012500\n",
              "8   11.30   75  0.088496  0.013333\n",
              "9   11.35   70  0.088106  0.014286\n",
              "10  11.50   65  0.086957  0.015385\n",
              "11  11.65   60  0.085837  0.016667\n",
              "12  11.85   55  0.084388  0.018182\n",
              "13  12.05   50  0.082988  0.020000\n",
              "14  12.30   45  0.081301  0.022222\n",
              "15  12.85   40  0.077821  0.025000\n",
              "16  13.50   35  0.074074  0.028571\n",
              "17  14.30   30  0.069930  0.033333\n",
              "18  15.75   25  0.063492  0.040000"
            ],
            "text/html": [
              "\n",
              "  <div id=\"df-e522fe39-2f84-49d5-ac07-fd4bda368876\">\n",
              "    <div class=\"colab-df-container\">\n",
              "      <div>\n",
              "<style scoped>\n",
              "    .dataframe tbody tr th:only-of-type {\n",
              "        vertical-align: middle;\n",
              "    }\n",
              "\n",
              "    .dataframe tbody tr th {\n",
              "        vertical-align: top;\n",
              "    }\n",
              "\n",
              "    .dataframe thead th {\n",
              "        text-align: right;\n",
              "    }\n",
              "</style>\n",
              "<table border=\"1\" class=\"dataframe\">\n",
              "  <thead>\n",
              "    <tr style=\"text-align: right;\">\n",
              "      <th></th>\n",
              "      <th>si</th>\n",
              "      <th>so</th>\n",
              "      <th>1/si</th>\n",
              "      <th>1/so</th>\n",
              "    </tr>\n",
              "  </thead>\n",
              "  <tbody>\n",
              "    <tr>\n",
              "      <th>0</th>\n",
              "      <td>10.35</td>\n",
              "      <td>115</td>\n",
              "      <td>0.096618</td>\n",
              "      <td>0.008696</td>\n",
              "    </tr>\n",
              "    <tr>\n",
              "      <th>1</th>\n",
              "      <td>10.65</td>\n",
              "      <td>110</td>\n",
              "      <td>0.093897</td>\n",
              "      <td>0.009091</td>\n",
              "    </tr>\n",
              "    <tr>\n",
              "      <th>2</th>\n",
              "      <td>10.65</td>\n",
              "      <td>105</td>\n",
              "      <td>0.093897</td>\n",
              "      <td>0.009524</td>\n",
              "    </tr>\n",
              "    <tr>\n",
              "      <th>3</th>\n",
              "      <td>10.70</td>\n",
              "      <td>100</td>\n",
              "      <td>0.093458</td>\n",
              "      <td>0.010000</td>\n",
              "    </tr>\n",
              "    <tr>\n",
              "      <th>4</th>\n",
              "      <td>10.70</td>\n",
              "      <td>95</td>\n",
              "      <td>0.093458</td>\n",
              "      <td>0.010526</td>\n",
              "    </tr>\n",
              "    <tr>\n",
              "      <th>5</th>\n",
              "      <td>11.05</td>\n",
              "      <td>90</td>\n",
              "      <td>0.090498</td>\n",
              "      <td>0.011111</td>\n",
              "    </tr>\n",
              "    <tr>\n",
              "      <th>6</th>\n",
              "      <td>11.10</td>\n",
              "      <td>85</td>\n",
              "      <td>0.090090</td>\n",
              "      <td>0.011765</td>\n",
              "    </tr>\n",
              "    <tr>\n",
              "      <th>7</th>\n",
              "      <td>11.15</td>\n",
              "      <td>80</td>\n",
              "      <td>0.089686</td>\n",
              "      <td>0.012500</td>\n",
              "    </tr>\n",
              "    <tr>\n",
              "      <th>8</th>\n",
              "      <td>11.30</td>\n",
              "      <td>75</td>\n",
              "      <td>0.088496</td>\n",
              "      <td>0.013333</td>\n",
              "    </tr>\n",
              "    <tr>\n",
              "      <th>9</th>\n",
              "      <td>11.35</td>\n",
              "      <td>70</td>\n",
              "      <td>0.088106</td>\n",
              "      <td>0.014286</td>\n",
              "    </tr>\n",
              "    <tr>\n",
              "      <th>10</th>\n",
              "      <td>11.50</td>\n",
              "      <td>65</td>\n",
              "      <td>0.086957</td>\n",
              "      <td>0.015385</td>\n",
              "    </tr>\n",
              "    <tr>\n",
              "      <th>11</th>\n",
              "      <td>11.65</td>\n",
              "      <td>60</td>\n",
              "      <td>0.085837</td>\n",
              "      <td>0.016667</td>\n",
              "    </tr>\n",
              "    <tr>\n",
              "      <th>12</th>\n",
              "      <td>11.85</td>\n",
              "      <td>55</td>\n",
              "      <td>0.084388</td>\n",
              "      <td>0.018182</td>\n",
              "    </tr>\n",
              "    <tr>\n",
              "      <th>13</th>\n",
              "      <td>12.05</td>\n",
              "      <td>50</td>\n",
              "      <td>0.082988</td>\n",
              "      <td>0.020000</td>\n",
              "    </tr>\n",
              "    <tr>\n",
              "      <th>14</th>\n",
              "      <td>12.30</td>\n",
              "      <td>45</td>\n",
              "      <td>0.081301</td>\n",
              "      <td>0.022222</td>\n",
              "    </tr>\n",
              "    <tr>\n",
              "      <th>15</th>\n",
              "      <td>12.85</td>\n",
              "      <td>40</td>\n",
              "      <td>0.077821</td>\n",
              "      <td>0.025000</td>\n",
              "    </tr>\n",
              "    <tr>\n",
              "      <th>16</th>\n",
              "      <td>13.50</td>\n",
              "      <td>35</td>\n",
              "      <td>0.074074</td>\n",
              "      <td>0.028571</td>\n",
              "    </tr>\n",
              "    <tr>\n",
              "      <th>17</th>\n",
              "      <td>14.30</td>\n",
              "      <td>30</td>\n",
              "      <td>0.069930</td>\n",
              "      <td>0.033333</td>\n",
              "    </tr>\n",
              "    <tr>\n",
              "      <th>18</th>\n",
              "      <td>15.75</td>\n",
              "      <td>25</td>\n",
              "      <td>0.063492</td>\n",
              "      <td>0.040000</td>\n",
              "    </tr>\n",
              "  </tbody>\n",
              "</table>\n",
              "</div>\n",
              "      <button class=\"colab-df-convert\" onclick=\"convertToInteractive('df-e522fe39-2f84-49d5-ac07-fd4bda368876')\"\n",
              "              title=\"Convert this dataframe to an interactive table.\"\n",
              "              style=\"display:none;\">\n",
              "        \n",
              "  <svg xmlns=\"http://www.w3.org/2000/svg\" height=\"24px\"viewBox=\"0 0 24 24\"\n",
              "       width=\"24px\">\n",
              "    <path d=\"M0 0h24v24H0V0z\" fill=\"none\"/>\n",
              "    <path d=\"M18.56 5.44l.94 2.06.94-2.06 2.06-.94-2.06-.94-.94-2.06-.94 2.06-2.06.94zm-11 1L8.5 8.5l.94-2.06 2.06-.94-2.06-.94L8.5 2.5l-.94 2.06-2.06.94zm10 10l.94 2.06.94-2.06 2.06-.94-2.06-.94-.94-2.06-.94 2.06-2.06.94z\"/><path d=\"M17.41 7.96l-1.37-1.37c-.4-.4-.92-.59-1.43-.59-.52 0-1.04.2-1.43.59L10.3 9.45l-7.72 7.72c-.78.78-.78 2.05 0 2.83L4 21.41c.39.39.9.59 1.41.59.51 0 1.02-.2 1.41-.59l7.78-7.78 2.81-2.81c.8-.78.8-2.07 0-2.86zM5.41 20L4 18.59l7.72-7.72 1.47 1.35L5.41 20z\"/>\n",
              "  </svg>\n",
              "      </button>\n",
              "      \n",
              "  <style>\n",
              "    .colab-df-container {\n",
              "      display:flex;\n",
              "      flex-wrap:wrap;\n",
              "      gap: 12px;\n",
              "    }\n",
              "\n",
              "    .colab-df-convert {\n",
              "      background-color: #E8F0FE;\n",
              "      border: none;\n",
              "      border-radius: 50%;\n",
              "      cursor: pointer;\n",
              "      display: none;\n",
              "      fill: #1967D2;\n",
              "      height: 32px;\n",
              "      padding: 0 0 0 0;\n",
              "      width: 32px;\n",
              "    }\n",
              "\n",
              "    .colab-df-convert:hover {\n",
              "      background-color: #E2EBFA;\n",
              "      box-shadow: 0px 1px 2px rgba(60, 64, 67, 0.3), 0px 1px 3px 1px rgba(60, 64, 67, 0.15);\n",
              "      fill: #174EA6;\n",
              "    }\n",
              "\n",
              "    [theme=dark] .colab-df-convert {\n",
              "      background-color: #3B4455;\n",
              "      fill: #D2E3FC;\n",
              "    }\n",
              "\n",
              "    [theme=dark] .colab-df-convert:hover {\n",
              "      background-color: #434B5C;\n",
              "      box-shadow: 0px 1px 3px 1px rgba(0, 0, 0, 0.15);\n",
              "      filter: drop-shadow(0px 1px 2px rgba(0, 0, 0, 0.3));\n",
              "      fill: #FFFFFF;\n",
              "    }\n",
              "  </style>\n",
              "\n",
              "      <script>\n",
              "        const buttonEl =\n",
              "          document.querySelector('#df-e522fe39-2f84-49d5-ac07-fd4bda368876 button.colab-df-convert');\n",
              "        buttonEl.style.display =\n",
              "          google.colab.kernel.accessAllowed ? 'block' : 'none';\n",
              "\n",
              "        async function convertToInteractive(key) {\n",
              "          const element = document.querySelector('#df-e522fe39-2f84-49d5-ac07-fd4bda368876');\n",
              "          const dataTable =\n",
              "            await google.colab.kernel.invokeFunction('convertToInteractive',\n",
              "                                                     [key], {});\n",
              "          if (!dataTable) return;\n",
              "\n",
              "          const docLinkHtml = 'Like what you see? Visit the ' +\n",
              "            '<a target=\"_blank\" href=https://colab.research.google.com/notebooks/data_table.ipynb>data table notebook</a>'\n",
              "            + ' to learn more about interactive tables.';\n",
              "          element.innerHTML = '';\n",
              "          dataTable['output_type'] = 'display_data';\n",
              "          await google.colab.output.renderOutput(dataTable, element);\n",
              "          const docLink = document.createElement('div');\n",
              "          docLink.innerHTML = docLinkHtml;\n",
              "          element.appendChild(docLink);\n",
              "        }\n",
              "      </script>\n",
              "    </div>\n",
              "  </div>\n",
              "  "
            ]
          },
          "metadata": {},
          "execution_count": 41
        }
      ]
    },
    {
      "cell_type": "markdown",
      "source": [
        "##graficas sin ajuste"
      ],
      "metadata": {
        "id": "zNrTzegnUp3T"
      }
    },
    {
      "cell_type": "code",
      "source": [
        "#error = np.array([ (x[1]-x[0])/2 for x in si_vect ])\n",
        "\n",
        "# Create the scatter plot and plot the error bars\n",
        "plt.errorbar(df1['si'], df1['so'], xerr=errordf['incertidumbre_si'], fmt='o', markersize=3, capsize=5, ecolor='red', elinewidth=1, capthick=1)\n",
        "\n",
        "plt.xlabel('Si')\n",
        "plt.ylabel('So')\n",
        "plt.title('So vs Si')\n",
        "\n",
        "plt.show()"
      ],
      "metadata": {
        "colab": {
          "base_uri": "https://localhost:8080/",
          "height": 472
        },
        "id": "kJVy2Zz5SYBp",
        "outputId": "ebb145f5-93c9-43ed-8f4c-0c7914c3f80c"
      },
      "execution_count": 42,
      "outputs": [
        {
          "output_type": "display_data",
          "data": {
            "text/plain": [
              "<Figure size 640x480 with 1 Axes>"
            ],
            "image/png": "[encoded data removed]"
          },
          "metadata": {}
        }
      ]
    },
    {
      "cell_type": "code",
      "source": [
        "plt.plot(df1['1/si'], df1['1/so'], 'bo')\n",
        "\n",
        "plt.xlabel('1/Si')\n",
        "plt.ylabel('1/So')\n",
        "plt.title('1/So vs 1/Si')\n",
        "\n",
        "plt.show()\n"
      ],
      "metadata": {
        "colab": {
          "base_uri": "https://localhost:8080/",
          "height": 472
        },
        "id": "rFksZPsCSqH-",
        "outputId": "76854830-2705-4c46-be77-1f6113c060be"
      },
      "execution_count": 43,
      "outputs": [
        {
          "output_type": "display_data",
          "data": {
            "text/plain": [
              "<Figure size 640x480 with 1 Axes>"
            ],
            "image/png": "[encoded data removed]"
          },
          "metadata": {}
        }
      ]
    },
    {
      "cell_type": "markdown",
      "source": [
        "##ajuste lineal para los inversos\n"
      ],
      "metadata": {
        "id": "JExC9PRoUv_L"
      }
    },
    {
      "cell_type": "code",
      "source": [
        "#Realizar el ajuste lineal y mostrar los resultados\n",
        "L_slope, L_intercept, L_r_value, L_p_value, L_std_err = linregress(df1['1/si'], df1['1/so'])\n",
        "\n",
        "print('Pendiente:', L_slope)\n",
        "print('Intersección:', L_intercept)\n",
        "print('Coeficiente de correlación:', L_r_value)\n",
        "print('Valor p:', L_p_value)\n",
        "print('Error estándar:', L_std_err)"
      ],
      "metadata": {
        "colab": {
          "base_uri": "https://localhost:8080/"
        },
        "id": "GCdmsCJaSyQF",
        "outputId": "b685ec5c-9340-4451-ec22-140fe2419928"
      },
      "execution_count": 44,
      "outputs": [
        {
          "output_type": "stream",
          "name": "stdout",
          "text": [
            "Pendiente: -0.9945914268231367\n",
            "Intersección: 0.10244172947069777\n",
            "Coeficiente de correlación: -0.9951204422041516\n",
            "Valor p: 1.5247686431159849e-18\n",
            "Error estándar: 0.023917698958350674\n"
          ]
        }
      ]
    },
    {
      "cell_type": "markdown",
      "source": [
        "##grafica con ajuste para los inversos"
      ],
      "metadata": {
        "id": "CkHm23IkU1pi"
      }
    },
    {
      "cell_type": "code",
      "source": [
        "error = np.array([ y[1]-y[0] for y in si_vect ])\n",
        "\n",
        "\n",
        "\n",
        "plt.plot(df1['1/si'], df1['1/so'], 'bo')\n",
        "plt.plot(df1['1/si'], L_slope*df1['1/si']+L_intercept, #y = mb + b\n",
        "            'r-', label='Ajuste lineal')\n",
        "\n",
        "#plt.errorbar(df1['1/si'], df1['1/so'], yerr=error, fmt='none')\n",
        "\n",
        "\n",
        "\n",
        "#=====\n",
        "\n",
        "plt.xlabel('1/si')\n",
        "plt.ylabel('s/so')\n",
        "plt.title('1/so vs 1/si')\n",
        "plt.show()"
      ],
      "metadata": {
        "colab": {
          "base_uri": "https://localhost:8080/",
          "height": 472
        },
        "id": "1aX0TaXYTRoQ",
        "outputId": "0c787826-2a8b-4938-8d74-cdd072fede07"
      },
      "execution_count": 45,
      "outputs": [
        {
          "output_type": "display_data",
          "data": {
            "text/plain": [
              "<Figure size 640x480 with 1 Axes>"
            ],
            "image/png": "[encoded data removed]"
          },
          "metadata": {}
        }
      ]
    },
    {
      "cell_type": "markdown",
      "source": [
        "##Ejemplos barras de error"
      ],
      "metadata": {
        "id": "tTs8KyApf7Rk"
      }
    },
    {
      "cell_type": "code",
      "source": [
        "import matplotlib.pyplot as plt\n",
        "import numpy as np\n",
        "\n",
        "x = np.array([1, 2, 3, 4, 5])\n",
        "y = np.array([3, 5, 4, 6, 7])\n",
        "error = np.array([0.5, 0.4, 0.6, 0.8, 0.7])\n",
        "\n",
        "plt.scatter(x, y)\n",
        "plt.errorbar(x, y, yerr=error, fmt='none')\n",
        "\n",
        "slope, intercept = np.polyfit(x, y, 1)\n",
        "plt.plot(x, slope*x + intercept, color='red')\n",
        "\n",
        "plt.xlabel('Eje X')\n",
        "plt.ylabel('Eje Y')\n",
        "plt.title('Gráfica con puntos y barras de error')\n",
        "\n",
        "plt.show()\n"
      ],
      "metadata": {
        "colab": {
          "base_uri": "https://localhost:8080/",
          "height": 472
        },
        "id": "LVC-K955a4tE",
        "outputId": "c29d1c51-22c1-415c-9695-efd650286209"
      },
      "execution_count": 46,
      "outputs": [
        {
          "output_type": "display_data",
          "data": {
            "text/plain": [
              "<Figure size 640x480 with 1 Axes>"
            ],
            "image/png": "[encoded data removed]"
          },
          "metadata": {}
        }
      ]
    },
    {
      "cell_type": "code",
      "source": [
        "import matplotlib.pyplot as plt\n",
        "import numpy as np\n",
        "\n",
        "# Define the data\n",
        "si = [1, 2, 3, 4, 5]\n",
        "so = [2, 4, 6, 8, 10]\n",
        "error = [0.5, 0.7, 0.8, 1.2, 1.5]\n",
        "\n",
        "# Create the scatter plot\n",
        "plt.scatter(si, so)\n",
        "\n",
        "# Plot the error bars\n",
        "plt.errorbar(si, so, yerr=error, fmt='none')\n",
        "\n",
        "# Add labels and title\n",
        "plt.xlabel('Si')\n",
        "plt.ylabel('So')\n",
        "plt.title('So vs Si')\n",
        "\n",
        "# Show the plot\n",
        "plt.show()"
      ],
      "metadata": {
        "id": "D0P5JXwGf3jW",
        "colab": {
          "base_uri": "https://localhost:8080/",
          "height": 472
        },
        "outputId": "e665b8c9-a37a-473f-b1a3-b2b78140c7ca"
      },
      "execution_count": 47,
      "outputs": [
        {
          "output_type": "display_data",
          "data": {
            "text/plain": [
              "<Figure size 640x480 with 1 Axes>"
            ],
            "image/png": "[encoded data removed]"
          },
          "metadata": {}
        }
      ]
    },
    {
      "cell_type": "code",
      "source": [],
      "metadata": {
        "id": "-TZuxOaOPjnu"
      },
      "execution_count": 47,
      "outputs": []
    },
    {
      "cell_type": "markdown",
      "source": [
        "#LENTES\n"
      ],
      "metadata": {
        "id": "j2HSzH52eA6W"
      }
    },
    {
      "cell_type": "code",
      "source": [
        "Sol = np.array([30, 35, 40, 45, 50, 55, 60, 65, 70, 75])\n",
        "\n",
        "Sil = np.array([65.4, 49.9, 42.5, 38, 34.8, 32, 31.2, 31, 29, 28.3])"
      ],
      "metadata": {
        "id": "hb3owH-DeCwV"
      },
      "execution_count": 48,
      "outputs": []
    },
    {
      "cell_type": "code",
      "source": [
        "Sol_1 = 1/Sol\n",
        "Sil_1 = 1/Sil"
      ],
      "metadata": {
        "id": "7Grf1qdLfeJt"
      },
      "execution_count": 49,
      "outputs": []
    },
    {
      "cell_type": "markdown",
      "source": [
        "## tabla"
      ],
      "metadata": {
        "id": "xtR3QvUkle8M"
      }
    },
    {
      "cell_type": "code",
      "source": [
        "df2 = pd.DataFrame({'si': Sil, 'so': Sol, '1/si': Sil_1, '1/so': Sol_1})\n",
        "df2"
      ],
      "metadata": {
        "id": "_EEXE---f92S",
        "outputId": "f98931a0-88a3-4a74-8a90-494fb640dbc2",
        "colab": {
          "base_uri": "https://localhost:8080/",
          "height": 363
        }
      },
      "execution_count": 50,
      "outputs": [
        {
          "output_type": "execute_result",
          "data": {
            "text/plain": [
              "     si  so      1/si      1/so\n",
              "0  65.4  30  0.015291  0.033333\n",
              "1  49.9  35  0.020040  0.028571\n",
              "2  42.5  40  0.023529  0.025000\n",
              "3  38.0  45  0.026316  0.022222\n",
              "4  34.8  50  0.028736  0.020000\n",
              "5  32.0  55  0.031250  0.018182\n",
              "6  31.2  60  0.032051  0.016667\n",
              "7  31.0  65  0.032258  0.015385\n",
              "8  29.0  70  0.034483  0.014286\n",
              "9  28.3  75  0.035336  0.013333"
            ],
            "text/html": [
              "\n",
              "  <div id=\"df-71f07395-66dc-4944-bb6b-fa5cb98162a3\">\n",
              "    <div class=\"colab-df-container\">\n",
              "      <div>\n",
              "<style scoped>\n",
              "    .dataframe tbody tr th:only-of-type {\n",
              "        vertical-align: middle;\n",
              "    }\n",
              "\n",
              "    .dataframe tbody tr th {\n",
              "        vertical-align: top;\n",
              "    }\n",
              "\n",
              "    .dataframe thead th {\n",
              "        text-align: right;\n",
              "    }\n",
              "</style>\n",
              "<table border=\"1\" class=\"dataframe\">\n",
              "  <thead>\n",
              "    <tr style=\"text-align: right;\">\n",
              "      <th></th>\n",
              "      <th>si</th>\n",
              "      <th>so</th>\n",
              "      <th>1/si</th>\n",
              "      <th>1/so</th>\n",
              "    </tr>\n",
              "  </thead>\n",
              "  <tbody>\n",
              "    <tr>\n",
              "      <th>0</th>\n",
              "      <td>65.4</td>\n",
              "      <td>30</td>\n",
              "      <td>0.015291</td>\n",
              "      <td>0.033333</td>\n",
              "    </tr>\n",
              "    <tr>\n",
              "      <th>1</th>\n",
              "      <td>49.9</td>\n",
              "      <td>35</td>\n",
              "      <td>0.020040</td>\n",
              "      <td>0.028571</td>\n",
              "    </tr>\n",
              "    <tr>\n",
              "      <th>2</th>\n",
              "      <td>42.5</td>\n",
              "      <td>40</td>\n",
              "      <td>0.023529</td>\n",
              "      <td>0.025000</td>\n",
              "    </tr>\n",
              "    <tr>\n",
              "      <th>3</th>\n",
              "      <td>38.0</td>\n",
              "      <td>45</td>\n",
              "      <td>0.026316</td>\n",
              "      <td>0.022222</td>\n",
              "    </tr>\n",
              "    <tr>\n",
              "      <th>4</th>\n",
              "      <td>34.8</td>\n",
              "      <td>50</td>\n",
              "      <td>0.028736</td>\n",
              "      <td>0.020000</td>\n",
              "    </tr>\n",
              "    <tr>\n",
              "      <th>5</th>\n",
              "      <td>32.0</td>\n",
              "      <td>55</td>\n",
              "      <td>0.031250</td>\n",
              "      <td>0.018182</td>\n",
              "    </tr>\n",
              "    <tr>\n",
              "      <th>6</th>\n",
              "      <td>31.2</td>\n",
              "      <td>60</td>\n",
              "      <td>0.032051</td>\n",
              "      <td>0.016667</td>\n",
              "    </tr>\n",
              "    <tr>\n",
              "      <th>7</th>\n",
              "      <td>31.0</td>\n",
              "      <td>65</td>\n",
              "      <td>0.032258</td>\n",
              "      <td>0.015385</td>\n",
              "    </tr>\n",
              "    <tr>\n",
              "      <th>8</th>\n",
              "      <td>29.0</td>\n",
              "      <td>70</td>\n",
              "      <td>0.034483</td>\n",
              "      <td>0.014286</td>\n",
              "    </tr>\n",
              "    <tr>\n",
              "      <th>9</th>\n",
              "      <td>28.3</td>\n",
              "      <td>75</td>\n",
              "      <td>0.035336</td>\n",
              "      <td>0.013333</td>\n",
              "    </tr>\n",
              "  </tbody>\n",
              "</table>\n",
              "</div>\n",
              "      <button class=\"colab-df-convert\" onclick=\"convertToInteractive('df-71f07395-66dc-4944-bb6b-fa5cb98162a3')\"\n",
              "              title=\"Convert this dataframe to an interactive table.\"\n",
              "              style=\"display:none;\">\n",
              "        \n",
              "  <svg xmlns=\"http://www.w3.org/2000/svg\" height=\"24px\"viewBox=\"0 0 24 24\"\n",
              "       width=\"24px\">\n",
              "    <path d=\"M0 0h24v24H0V0z\" fill=\"none\"/>\n",
              "    <path d=\"M18.56 5.44l.94 2.06.94-2.06 2.06-.94-2.06-.94-.94-2.06-.94 2.06-2.06.94zm-11 1L8.5 8.5l.94-2.06 2.06-.94-2.06-.94L8.5 2.5l-.94 2.06-2.06.94zm10 10l.94 2.06.94-2.06 2.06-.94-2.06-.94-.94-2.06-.94 2.06-2.06.94z\"/><path d=\"M17.41 7.96l-1.37-1.37c-.4-.4-.92-.59-1.43-.59-.52 0-1.04.2-1.43.59L10.3 9.45l-7.72 7.72c-.78.78-.78 2.05 0 2.83L4 21.41c.39.39.9.59 1.41.59.51 0 1.02-.2 1.41-.59l7.78-7.78 2.81-2.81c.8-.78.8-2.07 0-2.86zM5.41 20L4 18.59l7.72-7.72 1.47 1.35L5.41 20z\"/>\n",
              "  </svg>\n",
              "      </button>\n",
              "      \n",
              "  <style>\n",
              "    .colab-df-container {\n",
              "      display:flex;\n",
              "      flex-wrap:wrap;\n",
              "      gap: 12px;\n",
              "    }\n",
              "\n",
              "    .colab-df-convert {\n",
              "      background-color: #E8F0FE;\n",
              "      border: none;\n",
              "      border-radius: 50%;\n",
              "      cursor: pointer;\n",
              "      display: none;\n",
              "      fill: #1967D2;\n",
              "      height: 32px;\n",
              "      padding: 0 0 0 0;\n",
              "      width: 32px;\n",
              "    }\n",
              "\n",
              "    .colab-df-convert:hover {\n",
              "      background-color: #E2EBFA;\n",
              "      box-shadow: 0px 1px 2px rgba(60, 64, 67, 0.3), 0px 1px 3px 1px rgba(60, 64, 67, 0.15);\n",
              "      fill: #174EA6;\n",
              "    }\n",
              "\n",
              "    [theme=dark] .colab-df-convert {\n",
              "      background-color: #3B4455;\n",
              "      fill: #D2E3FC;\n",
              "    }\n",
              "\n",
              "    [theme=dark] .colab-df-convert:hover {\n",
              "      background-color: #434B5C;\n",
              "      box-shadow: 0px 1px 3px 1px rgba(0, 0, 0, 0.15);\n",
              "      filter: drop-shadow(0px 1px 2px rgba(0, 0, 0, 0.3));\n",
              "      fill: #FFFFFF;\n",
              "    }\n",
              "  </style>\n",
              "\n",
              "      <script>\n",
              "        const buttonEl =\n",
              "          document.querySelector('#df-71f07395-66dc-4944-bb6b-fa5cb98162a3 button.colab-df-convert');\n",
              "        buttonEl.style.display =\n",
              "          google.colab.kernel.accessAllowed ? 'block' : 'none';\n",
              "\n",
              "        async function convertToInteractive(key) {\n",
              "          const element = document.querySelector('#df-71f07395-66dc-4944-bb6b-fa5cb98162a3');\n",
              "          const dataTable =\n",
              "            await google.colab.kernel.invokeFunction('convertToInteractive',\n",
              "                                                     [key], {});\n",
              "          if (!dataTable) return;\n",
              "\n",
              "          const docLinkHtml = 'Like what you see? Visit the ' +\n",
              "            '<a target=\"_blank\" href=https://colab.research.google.com/notebooks/data_table.ipynb>data table notebook</a>'\n",
              "            + ' to learn more about interactive tables.';\n",
              "          element.innerHTML = '';\n",
              "          dataTable['output_type'] = 'display_data';\n",
              "          await google.colab.output.renderOutput(dataTable, element);\n",
              "          const docLink = document.createElement('div');\n",
              "          docLink.innerHTML = docLinkHtml;\n",
              "          element.appendChild(docLink);\n",
              "        }\n",
              "      </script>\n",
              "    </div>\n",
              "  </div>\n",
              "  "
            ]
          },
          "metadata": {},
          "execution_count": 50
        }
      ]
    },
    {
      "cell_type": "markdown",
      "source": [
        "## graficas"
      ],
      "metadata": {
        "id": "uyBjuDGHljIm"
      }
    },
    {
      "cell_type": "code",
      "source": [
        "plt.scatter(df2['si'],df2['so'])\n",
        "\n",
        "plt.title('So vs. Si')\n",
        "plt.xlabel('Si')\n",
        "plt.ylabel('So')\n",
        "\n",
        "plt.show()"
      ],
      "metadata": {
        "id": "nUYjbNqTgkqU",
        "colab": {
          "base_uri": "https://localhost:8080/",
          "height": 472
        },
        "outputId": "c1715ffc-b993-4921-ae5c-3520a00b0c3b"
      },
      "execution_count": 51,
      "outputs": [
        {
          "output_type": "display_data",
          "data": {
            "text/plain": [
              "<Figure size 640x480 with 1 Axes>"
            ],
            "image/png": "[encoded data removed]"
          },
          "metadata": {}
        }
      ]
    },
    {
      "cell_type": "markdown",
      "source": [],
      "metadata": {
        "id": "CXdNjoBnlh4r"
      }
    },
    {
      "cell_type": "code",
      "source": [
        "plt.scatter(df2['1/si'],df2['1/so'])\n",
        "\n",
        "plt.title('1/So vs. 1/Si')\n",
        "plt.xlabel('1/Si')\n",
        "plt.ylabel('1/So')\n",
        "\n",
        "plt.show()"
      ],
      "metadata": {
        "colab": {
          "base_uri": "https://localhost:8080/",
          "height": 472
        },
        "id": "Tg9gU0JskeK7",
        "outputId": "92ec32c0-916b-40ec-c5ba-e1bc4c2fb84d"
      },
      "execution_count": 52,
      "outputs": [
        {
          "output_type": "display_data",
          "data": {
            "text/plain": [
              "<Figure size 640x480 with 1 Axes>"
            ],
            "image/png": "[encoded data removed]"
          },
          "metadata": {}
        }
      ]
    },
    {
      "cell_type": "markdown",
      "source": [
        "## ajuste"
      ],
      "metadata": {
        "id": "0kBxtBVllpNb"
      }
    },
    {
      "cell_type": "code",
      "source": [
        "#Realizar el ajuste lineal y mostrar los resultados\n",
        "L_slope2, L_intercept2, L_r_value2, L_p_value2, L_std_err2 = linregress(df2['1/si'], df2['1/so'])\n",
        "\n",
        "print('Pendiente:', L_slope2)\n",
        "print('Intersección:', L_intercept2)\n",
        "print('Coeficiente de correlación:', L_r_value2)\n",
        "print('Valor p:', L_p_value2)\n",
        "print('Error estándar:', L_std_err2)"
      ],
      "metadata": {
        "colab": {
          "base_uri": "https://localhost:8080/"
        },
        "id": "wWxz2VTklqjy",
        "outputId": "bed734c1-ec8b-4844-bf8f-5110d2400855"
      },
      "execution_count": 53,
      "outputs": [
        {
          "output_type": "stream",
          "name": "stdout",
          "text": [
            "Pendiente: -0.9978222531644183\n",
            "Intersección: 0.048566013844164035\n",
            "Coeficiente de correlación: -0.9978463246265552\n",
            "Valor p: 9.388067144644555e-11\n",
            "Error estándar: 0.023190797850479228\n"
          ]
        }
      ]
    },
    {
      "cell_type": "markdown",
      "source": [
        "## grafica con ajuste"
      ],
      "metadata": {
        "id": "lfDcVeE0l55L"
      }
    },
    {
      "cell_type": "code",
      "source": [
        "plt.plot(df2['1/si'], df2['1/so'], 'bo')\n",
        "\n",
        "plt.plot(df2['1/si'], L_slope2*df2['1/si']+L_intercept2, #y = mb + b\n",
        "            'r-', label='Ajuste lineal')\n",
        "\n",
        "#=====\n",
        "\n",
        "plt.xlabel('1/si')\n",
        "plt.ylabel('s/so')\n",
        "plt.title('1/so vs 1/si')\n",
        "plt.show()"
      ],
      "metadata": {
        "colab": {
          "base_uri": "https://localhost:8080/",
          "height": 472
        },
        "id": "3AXvB8jVl8H6",
        "outputId": "978446e8-3769-427d-edc4-9abf9353fbd6"
      },
      "execution_count": 54,
      "outputs": [
        {
          "output_type": "display_data",
          "data": {
            "text/plain": [
              "<Figure size 640x480 with 1 Axes>"
            ],
            "image/png": "[encoded data removed]"
          },
          "metadata": {}
        }
      ]
    },
    {
      "cell_type": "code",
      "source": [],
      "metadata": {
        "id": "AE1pQyD4mDgg"
      },
      "execution_count": 54,
      "outputs": []
    }
  ]
}